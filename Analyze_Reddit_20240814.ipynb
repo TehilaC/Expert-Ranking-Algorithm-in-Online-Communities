{
  "cells": [
    {
      "cell_type": "markdown",
      "metadata": {
        "id": "view-in-github",
        "colab_type": "text"
      },
      "source": [
        "<a href=\"https://colab.research.google.com/github/TehilaC/Expert-Ranking-Algorithm-in-Online-Communities/blob/main/Analyze_Reddit_20240814.ipynb\" target=\"_parent\"><img src=\"https://colab.research.google.com/assets/colab-badge.svg\" alt=\"Open In Colab\"/></a>"
      ]
    },
    {
      "cell_type": "markdown",
      "source": [
        "**כניסה לגוגל**"
      ],
      "metadata": {
        "id": "3uX02A6jxzX_"
      }
    },
    {
      "cell_type": "code",
      "source": [
        "#from google.colab import auth\n",
        "#auth.authenticate_user()"
      ],
      "metadata": {
        "id": "boxHU-TNx0Rh"
      },
      "execution_count": 306,
      "outputs": []
    },
    {
      "cell_type": "code",
      "execution_count": 307,
      "metadata": {
        "id": "4JxMM_umR48o"
      },
      "outputs": [],
      "source": [
        "import networkx as nx\n",
        "import numpy as np\n",
        "import pandas as pd\n",
        "from sklearn import preprocessing\n",
        "from sklearn.model_selection import train_test_split\n",
        "from sklearn.metrics import confusion_matrix\n",
        "from sklearn.linear_model import LogisticRegression\n",
        "from sklearn.metrics import classification_report\n",
        "from scipy.stats import zscore\n",
        "\n",
        "import matplotlib.pyplot as plt\n",
        "from networkx import Graph\n",
        "\n",
        "from urllib.request import urlopen\n",
        "from bs4 import BeautifulSoup\n",
        "\n",
        "import codecs"
      ]
    },
    {
      "cell_type": "markdown",
      "metadata": {
        "id": "fCO7BHywDUi8"
      },
      "source": [
        "*   Get posts & comments data from BigQuery\n",
        "*   Save merge df\n",
        "\n",
        "\n"
      ]
    },
    {
      "cell_type": "code",
      "execution_count": 308,
      "metadata": {
        "id": "tSiX8bodENjf"
      },
      "outputs": [],
      "source": [
        "from google.cloud import bigquery\n",
        "from google.oauth2 import service_account\n",
        "import pandas as pd\n",
        "\n",
        "# Authenticate to BigQuery\n",
        "credentials = service_account.Credentials.from_service_account_file(\n",
        "    '/content/savvy-night-308317-be1fc47939da.json'\n",
        ")\n",
        "\n",
        "client = bigquery.Client(credentials=credentials, project=credentials.project_id)\n",
        "\n",
        "# Define queries to get the necessary data\n",
        "posts_query = \"\"\"\n",
        "select id, title, selftext, ups, downs, subreddit, author, author_fullname, DATETIME(TIMESTAMP_SECONDS(cast(created_utc as int64))) AS datetime_utc, num_comments, num_crossposts, num_reports, score\n",
        "from `savvy-night-308317.reddit.Posts_clean`\n",
        "\"\"\"\n",
        "\n",
        "comments_query = \"\"\"\n",
        "select id, link_id , body , parent_id, ups, downs, subreddit, author, author_fullname, DATETIME(TIMESTAMP_SECONDS(cast(created_utc as int64))) AS datetime_utc,score\n",
        "from `savvy-night-308317.reddit.Comments_clean`\n",
        "\"\"\"\n",
        "\n",
        "# Execute queries\n",
        "posts_df_source = client.query(posts_query).to_dataframe()\n",
        "comments_df_source = client.query(comments_query).to_dataframe()\n",
        "\n",
        "# Merging comments with their respective posts\n",
        "# Extract the post ID from the link_id in comments\n",
        "comments_df_source['post_id'] = comments_df_source['link_id'].str.extract(r't3_(.*)')\n",
        "\n",
        "# Initialize a column for post_id in comments_df to track the original post for subcomments\n",
        "comments_df_source['original_comment_id'] = comments_df_source['parent_id'].str.extract(r't1_(.*)')"
      ]
    },
    {
      "cell_type": "code",
      "source": [
        "year = 2013\n",
        "subrredit = 'Python'\n",
        "#subrredit = 'learnpython'"
      ],
      "metadata": {
        "id": "ssOMJ2yiwzj0"
      },
      "execution_count": 309,
      "outputs": []
    },
    {
      "cell_type": "code",
      "source": [
        "posts_df = posts_df_source[posts_df_source['subreddit'].apply(lambda x: x == subrredit )]\n",
        "comments_df = comments_df_source[ comments_df_source['subreddit'].apply(lambda x: x == subrredit )]\n",
        "posts_df = posts_df.loc[(posts_df['datetime_utc'].dt.year >= 2015 )& (posts_df['datetime_utc'].dt.year<= 2023 )]\n",
        "\n",
        "comments_df.loc[:, 'author_fullname'] = comments_df['author_fullname'].fillna(comments_df['author'])\n",
        "posts_df.loc[:, 'author_fullname'] = posts_df['author_fullname'].fillna(posts_df['author'])"
      ],
      "metadata": {
        "id": "IxjthnqjljYG"
      },
      "execution_count": 310,
      "outputs": []
    },
    {
      "cell_type": "code",
      "source": [
        "#remove [delete] users\n",
        "comments_df = comments_df[comments_df['author_fullname'] != '[deleted]']\n",
        "posts_df = posts_df[posts_df['author_fullname'] != '[deleted]']"
      ],
      "metadata": {
        "id": "4BrlWRCR_wy-"
      },
      "execution_count": 311,
      "outputs": []
    },
    {
      "cell_type": "markdown",
      "source": [
        "Merge posts and commens"
      ],
      "metadata": {
        "id": "AEWTqDUAe3ZN"
      }
    },
    {
      "cell_type": "code",
      "execution_count": 312,
      "metadata": {
        "id": "7JxTdZEZPx3G"
      },
      "outputs": [],
      "source": [
        "# Merge comments with posts\n",
        "merged_df = comments_df.merge(posts_df, left_on='post_id', right_on='id', suffixes=('_comment', '_post'))"
      ]
    },
    {
      "cell_type": "code",
      "execution_count": 360,
      "metadata": {
        "id": "vbXIl6D8NIfE"
      },
      "outputs": [],
      "source": [
        "edge_list = merged_df[[ 'author_post', 'author_fullname_post', 'author_comment', 'author_fullname_comment'\n",
        "                       , 'score_comment' , 'score_post' ,'id_post', 'id_comment']]"
      ]
    },
    {
      "cell_type": "markdown",
      "metadata": {
        "id": "JruSM8gBIRJG"
      },
      "source": [
        "Cleaning"
      ]
    },
    {
      "cell_type": "code",
      "execution_count": 361,
      "metadata": {
        "id": "WvwsIJoMIWV9"
      },
      "outputs": [],
      "source": [
        "posts_df = posts_df.drop_duplicates()\n",
        "comments_df = comments_df.drop_duplicates()\n",
        "edge_list = edge_list.dropna()"
      ]
    },
    {
      "cell_type": "code",
      "source": [
        "# delete all selfeloop edges\n",
        "print( len(edge_list) )\n",
        "edge_list = edge_list[edge_list['author_fullname_post'] != edge_list['author_fullname_comment']]\n",
        "print( len(edge_list) )"
      ],
      "metadata": {
        "colab": {
          "base_uri": "https://localhost:8080/"
        },
        "id": "_HDVJSctyajJ",
        "outputId": "2f073a7c-def7-449b-ff16-e6650396e791"
      },
      "execution_count": 362,
      "outputs": [
        {
          "output_type": "stream",
          "name": "stdout",
          "text": [
            "729203\n",
            "617577\n"
          ]
        }
      ]
    },
    {
      "cell_type": "markdown",
      "source": [
        "Create **users** df:\n",
        "\n",
        "\n",
        "*   Only active users\n",
        "*   no duplicates\n",
        "*   Additional data:\n",
        "    *  Posts : num of posts, sum of all scores\n",
        "    *  Comments : num of comments, sum of all comments, unique count of askers"
      ],
      "metadata": {
        "id": "qhJTysy1fESz"
      }
    },
    {
      "cell_type": "code",
      "source": [
        "# set up negative values\n",
        "def non_negative_edges():\n",
        "  min_score = edge_list['score_comment'].min()\n",
        "  print(\"min_score: \", min_score)\n",
        "  if min_score < 0:\n",
        "      abs_min_score = abs(min_score) + 1\n",
        "      print(\"abs_min_score: \", abs_min_score)\n",
        "      edge_list['score_comment_pos'] = edge_list['score_comment'] + abs_min_score\n",
        "\n",
        "non_negative_edges()"
      ],
      "metadata": {
        "colab": {
          "base_uri": "https://localhost:8080/"
        },
        "id": "X7PUggUvz1CX",
        "outputId": "f56e100a-f9c5-43e0-ae81-64aeb00e1090"
      },
      "execution_count": 363,
      "outputs": [
        {
          "output_type": "stream",
          "name": "stdout",
          "text": [
            "min_score:  -556.0\n",
            "abs_min_score:  557.0\n"
          ]
        }
      ]
    },
    {
      "cell_type": "code",
      "execution_count": 364,
      "metadata": {
        "id": "keMDrIqqNt6A"
      },
      "outputs": [],
      "source": [
        "all_users = pd.concat([posts_df[\"author_fullname\"], comments_df[\"author_fullname\"]]).reset_index(name='author_fullname')\n",
        "#all_users = pd.concat([edge_list['author_fullname_post'], edge_list['author_fullname_comment']]).reset_index(name='author_fullname')\n",
        "all_users.drop_duplicates()\n",
        "\n",
        "# add scores - calculate karama\n",
        "post_score_sum = edge_list.groupby('author_fullname_post').agg({\n",
        "    'score_post': 'sum',\n",
        "    'id_post': 'nunique'\n",
        "}).rename(columns={\n",
        "    'id_post': 'count_unique_posts',\n",
        "    'score_post': 'post_score_sum'\n",
        "}).reset_index()\n",
        "all_users = all_users.merge(post_score_sum, how='left', left_on='author_fullname', right_on='author_fullname_post')\n",
        "\n",
        "comments_score_sum = edge_list.groupby('author_fullname_comment').agg({\n",
        "    'score_comment': 'sum',\n",
        "    'score_comment_pos': 'sum',\n",
        "    'id_comment': 'nunique',\n",
        "    'author_fullname_post': 'nunique'\n",
        "}).rename(columns={\n",
        "    'score_comment': 'comments_score_sum',\n",
        "    'score_comment_pos': 'comments_score_sum_pos',\n",
        "    'id_comment': 'count_unique_comment',\n",
        "    'author_fullname_post': 'count_unique_posts_asker'\n",
        "}).reset_index()\n",
        "\n",
        "all_users = all_users.merge(comments_score_sum, how='left', left_on='author_fullname', right_on='author_fullname_comment')\n",
        "all_users.fillna(0, inplace=True)\n",
        "\n",
        "# calclulate karama for user\n",
        "all_users['karama'] = all_users['post_score_sum'] + all_users['comments_score_sum']"
      ]
    },
    {
      "cell_type": "code",
      "source": [
        "all_users.reset_index(drop=True, inplace=True)\n",
        "all_users = all_users.drop_duplicates(subset = 'author_fullname')\n",
        "\n",
        "print(len(all_users))"
      ],
      "metadata": {
        "id": "xJQsym5uqh9K",
        "colab": {
          "base_uri": "https://localhost:8080/"
        },
        "outputId": "ecfa55c7-79e1-4e8e-87ec-7b754194641e"
      },
      "execution_count": 365,
      "outputs": [
        {
          "output_type": "stream",
          "name": "stdout",
          "text": [
            "213199\n"
          ]
        }
      ]
    },
    {
      "cell_type": "code",
      "source": [
        "edges_list_grouped = edge_list.groupby(['author_fullname_comment', 'author_fullname_post'])['score_comment'].sum().reset_index(name='score_comment')\n",
        "\n",
        "# set up negative values\n",
        "def non_negative_edges_total():\n",
        "  min_score = edges_list_grouped['score_comment'].min()\n",
        "  print(\"min_score: \", min_score)\n",
        "  if min_score < 0:\n",
        "      abs_min_score = abs(min_score) + 1\n",
        "      print(\"abs_min_score: \", abs_min_score)\n",
        "      edges_list_grouped['score_comment'] = edges_list_grouped['score_comment'] + abs_min_score\n",
        "\n",
        "#non_negative_edges_total()\n",
        "\n",
        "edges_l = edges_list_grouped[['author_fullname_post', 'author_fullname_comment', 'score_comment']].values.tolist()\n"
      ],
      "metadata": {
        "id": "eivfNRlptrvS"
      },
      "execution_count": 366,
      "outputs": []
    },
    {
      "cell_type": "code",
      "source": [
        "edges_list_grouped.to_csv('edges_test.csv')"
      ],
      "metadata": {
        "id": "6sLyEt8rEXwu"
      },
      "execution_count": 367,
      "outputs": []
    },
    {
      "cell_type": "code",
      "source": [
        "edges_list_grouped_corr = edges_list_grouped.groupby(['author_fullname_comment'])['score_comment'].sum().reset_index(name='score_comment_corr')\n",
        "all_users = all_users.merge(edges_list_grouped_corr, how='left', left_on='author_fullname', right_on='author_fullname_comment')\n",
        "all_users.fillna(0, inplace=True)"
      ],
      "metadata": {
        "id": "kWKvsZyaD41W"
      },
      "execution_count": 368,
      "outputs": []
    },
    {
      "cell_type": "code",
      "source": [
        "all_users.head()"
      ],
      "metadata": {
        "colab": {
          "base_uri": "https://localhost:8080/",
          "height": 226
        },
        "id": "_OYlkxWLGanC",
        "outputId": "0ed657d5-ca62-4a8e-e399-2f3179f04dbc"
      },
      "execution_count": 369,
      "outputs": [
        {
          "output_type": "execute_result",
          "data": {
            "text/plain": [
              "   index author_fullname author_fullname_post  post_score_sum  \\\n",
              "0      0        t2_7ogw5             t2_7ogw5        519610.0   \n",
              "1      1      t2_azskf4p           t2_azskf4p           266.0   \n",
              "2      2     t2_c1qhwo8c          t2_c1qhwo8c            84.0   \n",
              "3      3     t2_27zm0l8g          t2_27zm0l8g        264376.0   \n",
              "4      4        t2_zia33             t2_zia33            11.0   \n",
              "\n",
              "   count_unique_posts author_fullname_comment_x  comments_score_sum  \\\n",
              "0               315.0                  t2_7ogw5                 6.0   \n",
              "1                 2.0                t2_azskf4p                 5.0   \n",
              "2                 5.0                         0                 0.0   \n",
              "3               105.0               t2_27zm0l8g               104.0   \n",
              "4                 1.0                         0                 0.0   \n",
              "\n",
              "   comments_score_sum_pos  count_unique_comment  count_unique_posts_asker  \\\n",
              "0                   563.0                   1.0                       1.0   \n",
              "1                  2790.0                   5.0                       2.0   \n",
              "2                     0.0                   0.0                       0.0   \n",
              "3                 26283.0                  47.0                      14.0   \n",
              "4                     0.0                   0.0                       0.0   \n",
              "\n",
              "     karama author_fullname_comment_y  score_comment_corr  \n",
              "0  519616.0                  t2_7ogw5                 6.0  \n",
              "1     271.0                t2_azskf4p                 5.0  \n",
              "2      84.0                         0                 0.0  \n",
              "3  264480.0               t2_27zm0l8g               104.0  \n",
              "4      11.0                         0                 0.0  "
            ],
            "text/html": [
              "\n",
              "  <div id=\"df-706966ed-a2f8-4c79-938c-a8c24a8b99b9\" class=\"colab-df-container\">\n",
              "    <div>\n",
              "<style scoped>\n",
              "    .dataframe tbody tr th:only-of-type {\n",
              "        vertical-align: middle;\n",
              "    }\n",
              "\n",
              "    .dataframe tbody tr th {\n",
              "        vertical-align: top;\n",
              "    }\n",
              "\n",
              "    .dataframe thead th {\n",
              "        text-align: right;\n",
              "    }\n",
              "</style>\n",
              "<table border=\"1\" class=\"dataframe\">\n",
              "  <thead>\n",
              "    <tr style=\"text-align: right;\">\n",
              "      <th></th>\n",
              "      <th>index</th>\n",
              "      <th>author_fullname</th>\n",
              "      <th>author_fullname_post</th>\n",
              "      <th>post_score_sum</th>\n",
              "      <th>count_unique_posts</th>\n",
              "      <th>author_fullname_comment_x</th>\n",
              "      <th>comments_score_sum</th>\n",
              "      <th>comments_score_sum_pos</th>\n",
              "      <th>count_unique_comment</th>\n",
              "      <th>count_unique_posts_asker</th>\n",
              "      <th>karama</th>\n",
              "      <th>author_fullname_comment_y</th>\n",
              "      <th>score_comment_corr</th>\n",
              "    </tr>\n",
              "  </thead>\n",
              "  <tbody>\n",
              "    <tr>\n",
              "      <th>0</th>\n",
              "      <td>0</td>\n",
              "      <td>t2_7ogw5</td>\n",
              "      <td>t2_7ogw5</td>\n",
              "      <td>519610.0</td>\n",
              "      <td>315.0</td>\n",
              "      <td>t2_7ogw5</td>\n",
              "      <td>6.0</td>\n",
              "      <td>563.0</td>\n",
              "      <td>1.0</td>\n",
              "      <td>1.0</td>\n",
              "      <td>519616.0</td>\n",
              "      <td>t2_7ogw5</td>\n",
              "      <td>6.0</td>\n",
              "    </tr>\n",
              "    <tr>\n",
              "      <th>1</th>\n",
              "      <td>1</td>\n",
              "      <td>t2_azskf4p</td>\n",
              "      <td>t2_azskf4p</td>\n",
              "      <td>266.0</td>\n",
              "      <td>2.0</td>\n",
              "      <td>t2_azskf4p</td>\n",
              "      <td>5.0</td>\n",
              "      <td>2790.0</td>\n",
              "      <td>5.0</td>\n",
              "      <td>2.0</td>\n",
              "      <td>271.0</td>\n",
              "      <td>t2_azskf4p</td>\n",
              "      <td>5.0</td>\n",
              "    </tr>\n",
              "    <tr>\n",
              "      <th>2</th>\n",
              "      <td>2</td>\n",
              "      <td>t2_c1qhwo8c</td>\n",
              "      <td>t2_c1qhwo8c</td>\n",
              "      <td>84.0</td>\n",
              "      <td>5.0</td>\n",
              "      <td>0</td>\n",
              "      <td>0.0</td>\n",
              "      <td>0.0</td>\n",
              "      <td>0.0</td>\n",
              "      <td>0.0</td>\n",
              "      <td>84.0</td>\n",
              "      <td>0</td>\n",
              "      <td>0.0</td>\n",
              "    </tr>\n",
              "    <tr>\n",
              "      <th>3</th>\n",
              "      <td>3</td>\n",
              "      <td>t2_27zm0l8g</td>\n",
              "      <td>t2_27zm0l8g</td>\n",
              "      <td>264376.0</td>\n",
              "      <td>105.0</td>\n",
              "      <td>t2_27zm0l8g</td>\n",
              "      <td>104.0</td>\n",
              "      <td>26283.0</td>\n",
              "      <td>47.0</td>\n",
              "      <td>14.0</td>\n",
              "      <td>264480.0</td>\n",
              "      <td>t2_27zm0l8g</td>\n",
              "      <td>104.0</td>\n",
              "    </tr>\n",
              "    <tr>\n",
              "      <th>4</th>\n",
              "      <td>4</td>\n",
              "      <td>t2_zia33</td>\n",
              "      <td>t2_zia33</td>\n",
              "      <td>11.0</td>\n",
              "      <td>1.0</td>\n",
              "      <td>0</td>\n",
              "      <td>0.0</td>\n",
              "      <td>0.0</td>\n",
              "      <td>0.0</td>\n",
              "      <td>0.0</td>\n",
              "      <td>11.0</td>\n",
              "      <td>0</td>\n",
              "      <td>0.0</td>\n",
              "    </tr>\n",
              "  </tbody>\n",
              "</table>\n",
              "</div>\n",
              "    <div class=\"colab-df-buttons\">\n",
              "\n",
              "  <div class=\"colab-df-container\">\n",
              "    <button class=\"colab-df-convert\" onclick=\"convertToInteractive('df-706966ed-a2f8-4c79-938c-a8c24a8b99b9')\"\n",
              "            title=\"Convert this dataframe to an interactive table.\"\n",
              "            style=\"display:none;\">\n",
              "\n",
              "  <svg xmlns=\"http://www.w3.org/2000/svg\" height=\"24px\" viewBox=\"0 -960 960 960\">\n",
              "    <path d=\"M120-120v-720h720v720H120Zm60-500h600v-160H180v160Zm220 220h160v-160H400v160Zm0 220h160v-160H400v160ZM180-400h160v-160H180v160Zm440 0h160v-160H620v160ZM180-180h160v-160H180v160Zm440 0h160v-160H620v160Z\"/>\n",
              "  </svg>\n",
              "    </button>\n",
              "\n",
              "  <style>\n",
              "    .colab-df-container {\n",
              "      display:flex;\n",
              "      gap: 12px;\n",
              "    }\n",
              "\n",
              "    .colab-df-convert {\n",
              "      background-color: #E8F0FE;\n",
              "      border: none;\n",
              "      border-radius: 50%;\n",
              "      cursor: pointer;\n",
              "      display: none;\n",
              "      fill: #1967D2;\n",
              "      height: 32px;\n",
              "      padding: 0 0 0 0;\n",
              "      width: 32px;\n",
              "    }\n",
              "\n",
              "    .colab-df-convert:hover {\n",
              "      background-color: #E2EBFA;\n",
              "      box-shadow: 0px 1px 2px rgba(60, 64, 67, 0.3), 0px 1px 3px 1px rgba(60, 64, 67, 0.15);\n",
              "      fill: #174EA6;\n",
              "    }\n",
              "\n",
              "    .colab-df-buttons div {\n",
              "      margin-bottom: 4px;\n",
              "    }\n",
              "\n",
              "    [theme=dark] .colab-df-convert {\n",
              "      background-color: #3B4455;\n",
              "      fill: #D2E3FC;\n",
              "    }\n",
              "\n",
              "    [theme=dark] .colab-df-convert:hover {\n",
              "      background-color: #434B5C;\n",
              "      box-shadow: 0px 1px 3px 1px rgba(0, 0, 0, 0.15);\n",
              "      filter: drop-shadow(0px 1px 2px rgba(0, 0, 0, 0.3));\n",
              "      fill: #FFFFFF;\n",
              "    }\n",
              "  </style>\n",
              "\n",
              "    <script>\n",
              "      const buttonEl =\n",
              "        document.querySelector('#df-706966ed-a2f8-4c79-938c-a8c24a8b99b9 button.colab-df-convert');\n",
              "      buttonEl.style.display =\n",
              "        google.colab.kernel.accessAllowed ? 'block' : 'none';\n",
              "\n",
              "      async function convertToInteractive(key) {\n",
              "        const element = document.querySelector('#df-706966ed-a2f8-4c79-938c-a8c24a8b99b9');\n",
              "        const dataTable =\n",
              "          await google.colab.kernel.invokeFunction('convertToInteractive',\n",
              "                                                    [key], {});\n",
              "        if (!dataTable) return;\n",
              "\n",
              "        const docLinkHtml = 'Like what you see? Visit the ' +\n",
              "          '<a target=\"_blank\" href=https://colab.research.google.com/notebooks/data_table.ipynb>data table notebook</a>'\n",
              "          + ' to learn more about interactive tables.';\n",
              "        element.innerHTML = '';\n",
              "        dataTable['output_type'] = 'display_data';\n",
              "        await google.colab.output.renderOutput(dataTable, element);\n",
              "        const docLink = document.createElement('div');\n",
              "        docLink.innerHTML = docLinkHtml;\n",
              "        element.appendChild(docLink);\n",
              "      }\n",
              "    </script>\n",
              "  </div>\n",
              "\n",
              "\n",
              "<div id=\"df-f13832ad-7391-47e1-83de-5d2354d6ad4c\">\n",
              "  <button class=\"colab-df-quickchart\" onclick=\"quickchart('df-f13832ad-7391-47e1-83de-5d2354d6ad4c')\"\n",
              "            title=\"Suggest charts\"\n",
              "            style=\"display:none;\">\n",
              "\n",
              "<svg xmlns=\"http://www.w3.org/2000/svg\" height=\"24px\"viewBox=\"0 0 24 24\"\n",
              "     width=\"24px\">\n",
              "    <g>\n",
              "        <path d=\"M19 3H5c-1.1 0-2 .9-2 2v14c0 1.1.9 2 2 2h14c1.1 0 2-.9 2-2V5c0-1.1-.9-2-2-2zM9 17H7v-7h2v7zm4 0h-2V7h2v10zm4 0h-2v-4h2v4z\"/>\n",
              "    </g>\n",
              "</svg>\n",
              "  </button>\n",
              "\n",
              "<style>\n",
              "  .colab-df-quickchart {\n",
              "      --bg-color: #E8F0FE;\n",
              "      --fill-color: #1967D2;\n",
              "      --hover-bg-color: #E2EBFA;\n",
              "      --hover-fill-color: #174EA6;\n",
              "      --disabled-fill-color: #AAA;\n",
              "      --disabled-bg-color: #DDD;\n",
              "  }\n",
              "\n",
              "  [theme=dark] .colab-df-quickchart {\n",
              "      --bg-color: #3B4455;\n",
              "      --fill-color: #D2E3FC;\n",
              "      --hover-bg-color: #434B5C;\n",
              "      --hover-fill-color: #FFFFFF;\n",
              "      --disabled-bg-color: #3B4455;\n",
              "      --disabled-fill-color: #666;\n",
              "  }\n",
              "\n",
              "  .colab-df-quickchart {\n",
              "    background-color: var(--bg-color);\n",
              "    border: none;\n",
              "    border-radius: 50%;\n",
              "    cursor: pointer;\n",
              "    display: none;\n",
              "    fill: var(--fill-color);\n",
              "    height: 32px;\n",
              "    padding: 0;\n",
              "    width: 32px;\n",
              "  }\n",
              "\n",
              "  .colab-df-quickchart:hover {\n",
              "    background-color: var(--hover-bg-color);\n",
              "    box-shadow: 0 1px 2px rgba(60, 64, 67, 0.3), 0 1px 3px 1px rgba(60, 64, 67, 0.15);\n",
              "    fill: var(--button-hover-fill-color);\n",
              "  }\n",
              "\n",
              "  .colab-df-quickchart-complete:disabled,\n",
              "  .colab-df-quickchart-complete:disabled:hover {\n",
              "    background-color: var(--disabled-bg-color);\n",
              "    fill: var(--disabled-fill-color);\n",
              "    box-shadow: none;\n",
              "  }\n",
              "\n",
              "  .colab-df-spinner {\n",
              "    border: 2px solid var(--fill-color);\n",
              "    border-color: transparent;\n",
              "    border-bottom-color: var(--fill-color);\n",
              "    animation:\n",
              "      spin 1s steps(1) infinite;\n",
              "  }\n",
              "\n",
              "  @keyframes spin {\n",
              "    0% {\n",
              "      border-color: transparent;\n",
              "      border-bottom-color: var(--fill-color);\n",
              "      border-left-color: var(--fill-color);\n",
              "    }\n",
              "    20% {\n",
              "      border-color: transparent;\n",
              "      border-left-color: var(--fill-color);\n",
              "      border-top-color: var(--fill-color);\n",
              "    }\n",
              "    30% {\n",
              "      border-color: transparent;\n",
              "      border-left-color: var(--fill-color);\n",
              "      border-top-color: var(--fill-color);\n",
              "      border-right-color: var(--fill-color);\n",
              "    }\n",
              "    40% {\n",
              "      border-color: transparent;\n",
              "      border-right-color: var(--fill-color);\n",
              "      border-top-color: var(--fill-color);\n",
              "    }\n",
              "    60% {\n",
              "      border-color: transparent;\n",
              "      border-right-color: var(--fill-color);\n",
              "    }\n",
              "    80% {\n",
              "      border-color: transparent;\n",
              "      border-right-color: var(--fill-color);\n",
              "      border-bottom-color: var(--fill-color);\n",
              "    }\n",
              "    90% {\n",
              "      border-color: transparent;\n",
              "      border-bottom-color: var(--fill-color);\n",
              "    }\n",
              "  }\n",
              "</style>\n",
              "\n",
              "  <script>\n",
              "    async function quickchart(key) {\n",
              "      const quickchartButtonEl =\n",
              "        document.querySelector('#' + key + ' button');\n",
              "      quickchartButtonEl.disabled = true;  // To prevent multiple clicks.\n",
              "      quickchartButtonEl.classList.add('colab-df-spinner');\n",
              "      try {\n",
              "        const charts = await google.colab.kernel.invokeFunction(\n",
              "            'suggestCharts', [key], {});\n",
              "      } catch (error) {\n",
              "        console.error('Error during call to suggestCharts:', error);\n",
              "      }\n",
              "      quickchartButtonEl.classList.remove('colab-df-spinner');\n",
              "      quickchartButtonEl.classList.add('colab-df-quickchart-complete');\n",
              "    }\n",
              "    (() => {\n",
              "      let quickchartButtonEl =\n",
              "        document.querySelector('#df-f13832ad-7391-47e1-83de-5d2354d6ad4c button');\n",
              "      quickchartButtonEl.style.display =\n",
              "        google.colab.kernel.accessAllowed ? 'block' : 'none';\n",
              "    })();\n",
              "  </script>\n",
              "</div>\n",
              "\n",
              "    </div>\n",
              "  </div>\n"
            ],
            "application/vnd.google.colaboratory.intrinsic+json": {
              "type": "dataframe",
              "variable_name": "all_users"
            }
          },
          "metadata": {},
          "execution_count": 369
        }
      ]
    },
    {
      "cell_type": "markdown",
      "metadata": {
        "id": "nRiwZAqqZpKY"
      },
      "source": [
        "Create Graph"
      ]
    },
    {
      "cell_type": "code",
      "source": [
        "print( \"users: \" , len(all_users))\n",
        "print( \"posts: \" , len(posts_df))\n",
        "print( \"comments: \" , len(comments_df))\n",
        "print( \"edge_list: \" , len(edge_list) )\n",
        "print( \"merge: \" , len(merged_df) )"
      ],
      "metadata": {
        "colab": {
          "base_uri": "https://localhost:8080/"
        },
        "id": "ZoHOtX_7enFq",
        "outputId": "6edd56d4-04d4-441f-b160-64eeed3548fc"
      },
      "execution_count": 370,
      "outputs": [
        {
          "output_type": "stream",
          "name": "stdout",
          "text": [
            "users:  213199\n",
            "posts:  140288\n",
            "comments:  1039729\n",
            "edge_list:  617577\n",
            "merge:  729203\n"
          ]
        }
      ]
    },
    {
      "cell_type": "code",
      "execution_count": 371,
      "metadata": {
        "id": "K5in8_oRZq69"
      },
      "outputs": [],
      "source": [
        "#G=nx.MultiDiGraph()\n",
        "G=nx.DiGraph()"
      ]
    },
    {
      "cell_type": "code",
      "execution_count": 372,
      "metadata": {
        "id": "k0pLaCrLRvNZ",
        "colab": {
          "base_uri": "https://localhost:8080/"
        },
        "outputId": "238e9d80-fb9a-4542-98c2-632e410c25fe"
      },
      "outputs": [
        {
          "output_type": "stream",
          "name": "stdout",
          "text": [
            "Is Directed: True\n",
            "Num Edges of graph: \n",
            "434758\n",
            "Num Nodes of graph: \n",
            "213199\n",
            "in degree\n",
            "213199\n",
            "out degree\n",
            "213199\n"
          ]
        }
      ],
      "source": [
        "nodes_users = all_users['author_fullname']\n",
        "G.add_nodes_from(nodes_users)\n",
        "\n",
        "#edges_list_grouped = edges_list_grouped[edges_list_grouped['author_fullname_post'] != edges_list_grouped['author_fullname_comment']\n",
        "#edges_l = edge_list[['author_fullname_comment', 'author_fullname_post', 'score_comment']].values.tolist()\n",
        "G.add_weighted_edges_from(edges_l)\n",
        "\n",
        "# graph properties:\n",
        "print(\"Is Directed:\", G.is_directed())\n",
        "print(\"Num Edges of graph: \")\n",
        "print(G.number_of_edges())\n",
        "print(\"Num Nodes of graph: \")\n",
        "print(G.number_of_nodes())\n",
        "print(\"in degree\")\n",
        "print(len(G.in_degree))\n",
        "print(\"out degree\")\n",
        "print(len(G.out_degree()))"
      ]
    },
    {
      "cell_type": "code",
      "source": [
        "# remobve inner edges\n",
        "\n",
        "print(G.number_of_edges())\n",
        "G.remove_edges_from(nx.selfloop_edges(G))\n",
        "print(G.number_of_edges())"
      ],
      "metadata": {
        "id": "mV3kmmsKVxAu",
        "colab": {
          "base_uri": "https://localhost:8080/"
        },
        "outputId": "1818c730-26e8-40e6-ca79-0c78b4dc96f8"
      },
      "execution_count": 373,
      "outputs": [
        {
          "output_type": "stream",
          "name": "stdout",
          "text": [
            "434758\n",
            "434758\n"
          ]
        }
      ]
    },
    {
      "cell_type": "code",
      "source": [
        "num_nodes = G.number_of_nodes()\n",
        "num_edges = G.number_of_edges()"
      ],
      "metadata": {
        "id": "koAUBupqX2b-"
      },
      "execution_count": 374,
      "outputs": []
    },
    {
      "cell_type": "code",
      "source": [
        "import matplotlib.pyplot as plt\n",
        "\n",
        "# Extract weights from the graph\n",
        "weights = [G[u][v]['weight'] for u, v in G.edges()]\n",
        "\n",
        "# Plot the distribution of weights\n",
        "plt.hist(weights , bins = 10, log = True )\n",
        "plt.xlabel('Weight')\n",
        "plt.ylabel('Frequency')\n",
        "plt.title('Distribution of Weight in Graph')\n",
        "plt.show()"
      ],
      "metadata": {
        "colab": {
          "base_uri": "https://localhost:8080/",
          "height": 472
        },
        "id": "-89oknZ5gtvJ",
        "outputId": "cecb8393-e02a-47c1-b88e-69d45bdc22ba"
      },
      "execution_count": 375,
      "outputs": [
        {
          "output_type": "display_data",
          "data": {
            "text/plain": [
              "<Figure size 640x480 with 1 Axes>"
            ],
            "image/png": "[encoded data removed]"
          },
          "metadata": {}
        }
      ]
    },
    {
      "cell_type": "code",
      "source": [
        "def non_negative_weights(graph):\n",
        "  # Find the minimum weight in the graph\n",
        "  min_weight = min(w for u, v, w in graph.edges(data='weight'))\n",
        "  print(min_weight)\n",
        "  # Check if there are negative weights\n",
        "  # Adjust weights if there are negative values\n",
        "  if min_weight < 0:\n",
        "      adjustment = abs(min_weight) + 1\n",
        "      for u, v in graph.edges():\n",
        "          graph[u][v]['weight'] += adjustment\n",
        "\n",
        "non_negative_weights(G)"
      ],
      "metadata": {
        "id": "3vYT_hj_5uTq",
        "colab": {
          "base_uri": "https://localhost:8080/"
        },
        "outputId": "791fbe0f-e1e9-4fac-bc12-3058ecd5b609"
      },
      "execution_count": 376,
      "outputs": [
        {
          "output_type": "stream",
          "name": "stdout",
          "text": [
            "-1320.0\n"
          ]
        }
      ]
    },
    {
      "cell_type": "code",
      "source": [
        "# Store the original weights for correlation analysis\n",
        "original_weights = {}\n",
        "for u, v, weight in G.edges(data='weight'):\n",
        "        if v not in original_weights:\n",
        "            original_weights[v] = 0\n",
        "        original_weights[v] += weight\n",
        "\n",
        "# Extract PageRank scores and corresponding original weights\n",
        "nodes = list(G.nodes)\n",
        "\n",
        "original_weights_scores = [original_weights.get(0 , node ) for node in nodes]\n",
        "#original_weights\n",
        "all_users['weight'] = all_users['author_fullname'].map(original_weights).astype(float)"
      ],
      "metadata": {
        "id": "m9uGsTjQ-NNB"
      },
      "execution_count": 377,
      "outputs": []
    },
    {
      "cell_type": "code",
      "execution_count": 378,
      "metadata": {
        "id": "sQOX7MenZNnj"
      },
      "outputs": [],
      "source": [
        "import networkx as nx\n",
        "a = 0.85\n",
        "\n",
        "# Handle dangling nodes (nodes with no out-links)\n",
        "#dangling_weights = {n: 1.0 / len(G) for n in G if G.out_degree(n) == 0}\n",
        "\n",
        "#pr=nx.pagerank(G, a , max_iter = 10000 ) #\n",
        "pr=nx.pagerank(G, a , weight='weight', max_iter = 1000000 , tol=1e-6) #"
      ]
    },
    {
      "cell_type": "code",
      "execution_count": 379,
      "metadata": {
        "id": "Ku7wCxt5cNK4"
      },
      "outputs": [],
      "source": [
        "all_users['pr'] = all_users['author_fullname'].map(pr).astype(float)\n",
        "all_users['PageRank_Rank'] = all_users['pr'].rank(ascending=False)\n",
        "#all_users['Karama_Rank'] = all_users['karama'].rank(ascending=False)\n",
        "all_users['Karama_Rank'] = all_users['comments_score_sum'].rank(ascending=False)"
      ]
    },
    {
      "cell_type": "code",
      "source": [
        "# prompt: add column to all_users with multiple of comments karma * num comments\n",
        "\n",
        "#all_users['karama_clac'] = ( all_users['comments_score_sum'] * 0.7 + all_users['count_unique_comment'] * 0.3 ) #+ ( all_users['post_score_sum'] * all_users['count_unique_posts'] )\n",
        "#all_users['Karama_Rank'] = all_users['karama_clac'].rank(ascending=False)"
      ],
      "metadata": {
        "id": "_8MXixGcIPld"
      },
      "execution_count": 380,
      "outputs": []
    },
    {
      "cell_type": "code",
      "source": [
        "hubs, authorities = nx.hits(G, max_iter = 1000000 , normalized = True)\n",
        "\n",
        "all_users['hubs'] = all_users['author_fullname'].map(hubs) .astype(float)\n",
        "all_users['authorities'] = all_users['author_fullname'].map(authorities) .astype(float)\n",
        "all_users['Hubs_Rank'] = all_users['hubs'].rank(ascending=False)\n",
        "all_users['Authorities_Rank'] = all_users['authorities'].rank(ascending=False)"
      ],
      "metadata": {
        "id": "8DGR4to91ay9"
      },
      "execution_count": 381,
      "outputs": []
    },
    {
      "cell_type": "code",
      "source": [
        "all_users['weight'] = all_users['weight'].fillna(0)\n",
        "all_users['Karama_Rank'] = all_users['weight'].rank(ascending=False)"
      ],
      "metadata": {
        "id": "OuNuRwistpIg"
      },
      "execution_count": 382,
      "outputs": []
    },
    {
      "cell_type": "code",
      "source": [
        "from scipy.stats import spearmanr, kendalltau\n",
        "\n",
        "# Calculating Spearman and Kendall correlations\n",
        "spearman_pagerank_rho, p = spearmanr(all_users['PageRank_Rank'], all_users['Karama_Rank'])\n",
        "kendall_pagerank_tau, _ = kendalltau(all_users['PageRank_Rank'], all_users['Karama_Rank'])\n",
        "\n",
        "spearman_hubs_rho, p = spearmanr(all_users['Hubs_Rank'], all_users['Karama_Rank'])\n",
        "kendall_hubs_tau, _ = kendalltau(all_users['Hubs_Rank'], all_users['Karama_Rank'])\n",
        "\n",
        "spearman_authorities_rho, p = spearmanr(all_users['Authorities_Rank'], all_users['Karama_Rank'])\n",
        "kendall_authorities_tau, _ = kendalltau(all_users['Authorities_Rank'], all_users['Karama_Rank'])"
      ],
      "metadata": {
        "id": "ZjKVdV-yv4_V"
      },
      "execution_count": 383,
      "outputs": []
    },
    {
      "cell_type": "code",
      "source": [
        "all_users.head()"
      ],
      "metadata": {
        "colab": {
          "base_uri": "https://localhost:8080/",
          "height": 342
        },
        "id": "-eNnpp8T809f",
        "outputId": "36b9fa33-7cb8-45a6-eed8-ec20fb14dcd6"
      },
      "execution_count": 384,
      "outputs": [
        {
          "output_type": "execute_result",
          "data": {
            "text/plain": [
              "   index author_fullname author_fullname_post  post_score_sum  \\\n",
              "0      0        t2_7ogw5             t2_7ogw5        519610.0   \n",
              "1      1      t2_azskf4p           t2_azskf4p           266.0   \n",
              "2      2     t2_c1qhwo8c          t2_c1qhwo8c            84.0   \n",
              "3      3     t2_27zm0l8g          t2_27zm0l8g        264376.0   \n",
              "4      4        t2_zia33             t2_zia33            11.0   \n",
              "\n",
              "   count_unique_posts author_fullname_comment_x  comments_score_sum  \\\n",
              "0               315.0                  t2_7ogw5                 6.0   \n",
              "1                 2.0                t2_azskf4p                 5.0   \n",
              "2                 5.0                         0                 0.0   \n",
              "3               105.0               t2_27zm0l8g               104.0   \n",
              "4                 1.0                         0                 0.0   \n",
              "\n",
              "   comments_score_sum_pos  count_unique_comment  count_unique_posts_asker  \\\n",
              "0                   563.0                   1.0                       1.0   \n",
              "1                  2790.0                   5.0                       2.0   \n",
              "2                     0.0                   0.0                       0.0   \n",
              "3                 26283.0                  47.0                      14.0   \n",
              "4                     0.0                   0.0                       0.0   \n",
              "\n",
              "   ...  author_fullname_comment_y score_comment_corr   weight        pr  \\\n",
              "0  ...                   t2_7ogw5                6.0   1327.0  0.000007   \n",
              "1  ...                 t2_azskf4p                5.0   2647.0  0.000005   \n",
              "2  ...                          0                0.0      0.0  0.000003   \n",
              "3  ...                t2_27zm0l8g              104.0  18598.0  0.000022   \n",
              "4  ...                          0                0.0      0.0  0.000003   \n",
              "\n",
              "   PageRank_Rank  Karama_Rank          hubs   authorities  Hubs_Rank  \\\n",
              "0        11362.0      58421.0  2.488571e-05  2.498031e-06    17280.0   \n",
              "1        19046.0      37862.5  2.894449e-07  1.695367e-05    27620.0   \n",
              "2       165436.0     165436.0  5.744964e-05  1.459153e-18     1143.0   \n",
              "3         1243.0       4143.0  7.391569e-05  4.187049e-05        2.0   \n",
              "4       165436.0     165436.0  2.635414e-08  7.874480e-19    34864.0   \n",
              "\n",
              "   Authorities_Rank  \n",
              "0           26850.0  \n",
              "1           16249.0  \n",
              "2          119319.0  \n",
              "3            2588.0  \n",
              "4          131237.0  \n",
              "\n",
              "[5 rows x 21 columns]"
            ],
            "text/html": [
              "\n",
              "  <div id=\"df-5ff3844a-9c83-4dcd-b99a-b28d8dbb0549\" class=\"colab-df-container\">\n",
              "    <div>\n",
              "<style scoped>\n",
              "    .dataframe tbody tr th:only-of-type {\n",
              "        vertical-align: middle;\n",
              "    }\n",
              "\n",
              "    .dataframe tbody tr th {\n",
              "        vertical-align: top;\n",
              "    }\n",
              "\n",
              "    .dataframe thead th {\n",
              "        text-align: right;\n",
              "    }\n",
              "</style>\n",
              "<table border=\"1\" class=\"dataframe\">\n",
              "  <thead>\n",
              "    <tr style=\"text-align: right;\">\n",
              "      <th></th>\n",
              "      <th>index</th>\n",
              "      <th>author_fullname</th>\n",
              "      <th>author_fullname_post</th>\n",
              "      <th>post_score_sum</th>\n",
              "      <th>count_unique_posts</th>\n",
              "      <th>author_fullname_comment_x</th>\n",
              "      <th>comments_score_sum</th>\n",
              "      <th>comments_score_sum_pos</th>\n",
              "      <th>count_unique_comment</th>\n",
              "      <th>count_unique_posts_asker</th>\n",
              "      <th>...</th>\n",
              "      <th>author_fullname_comment_y</th>\n",
              "      <th>score_comment_corr</th>\n",
              "      <th>weight</th>\n",
              "      <th>pr</th>\n",
              "      <th>PageRank_Rank</th>\n",
              "      <th>Karama_Rank</th>\n",
              "      <th>hubs</th>\n",
              "      <th>authorities</th>\n",
              "      <th>Hubs_Rank</th>\n",
              "      <th>Authorities_Rank</th>\n",
              "    </tr>\n",
              "  </thead>\n",
              "  <tbody>\n",
              "    <tr>\n",
              "      <th>0</th>\n",
              "      <td>0</td>\n",
              "      <td>t2_7ogw5</td>\n",
              "      <td>t2_7ogw5</td>\n",
              "      <td>519610.0</td>\n",
              "      <td>315.0</td>\n",
              "      <td>t2_7ogw5</td>\n",
              "      <td>6.0</td>\n",
              "      <td>563.0</td>\n",
              "      <td>1.0</td>\n",
              "      <td>1.0</td>\n",
              "      <td>...</td>\n",
              "      <td>t2_7ogw5</td>\n",
              "      <td>6.0</td>\n",
              "      <td>1327.0</td>\n",
              "      <td>0.000007</td>\n",
              "      <td>11362.0</td>\n",
              "      <td>58421.0</td>\n",
              "      <td>2.488571e-05</td>\n",
              "      <td>2.498031e-06</td>\n",
              "      <td>17280.0</td>\n",
              "      <td>26850.0</td>\n",
              "    </tr>\n",
              "    <tr>\n",
              "      <th>1</th>\n",
              "      <td>1</td>\n",
              "      <td>t2_azskf4p</td>\n",
              "      <td>t2_azskf4p</td>\n",
              "      <td>266.0</td>\n",
              "      <td>2.0</td>\n",
              "      <td>t2_azskf4p</td>\n",
              "      <td>5.0</td>\n",
              "      <td>2790.0</td>\n",
              "      <td>5.0</td>\n",
              "      <td>2.0</td>\n",
              "      <td>...</td>\n",
              "      <td>t2_azskf4p</td>\n",
              "      <td>5.0</td>\n",
              "      <td>2647.0</td>\n",
              "      <td>0.000005</td>\n",
              "      <td>19046.0</td>\n",
              "      <td>37862.5</td>\n",
              "      <td>2.894449e-07</td>\n",
              "      <td>1.695367e-05</td>\n",
              "      <td>27620.0</td>\n",
              "      <td>16249.0</td>\n",
              "    </tr>\n",
              "    <tr>\n",
              "      <th>2</th>\n",
              "      <td>2</td>\n",
              "      <td>t2_c1qhwo8c</td>\n",
              "      <td>t2_c1qhwo8c</td>\n",
              "      <td>84.0</td>\n",
              "      <td>5.0</td>\n",
              "      <td>0</td>\n",
              "      <td>0.0</td>\n",
              "      <td>0.0</td>\n",
              "      <td>0.0</td>\n",
              "      <td>0.0</td>\n",
              "      <td>...</td>\n",
              "      <td>0</td>\n",
              "      <td>0.0</td>\n",
              "      <td>0.0</td>\n",
              "      <td>0.000003</td>\n",
              "      <td>165436.0</td>\n",
              "      <td>165436.0</td>\n",
              "      <td>5.744964e-05</td>\n",
              "      <td>1.459153e-18</td>\n",
              "      <td>1143.0</td>\n",
              "      <td>119319.0</td>\n",
              "    </tr>\n",
              "    <tr>\n",
              "      <th>3</th>\n",
              "      <td>3</td>\n",
              "      <td>t2_27zm0l8g</td>\n",
              "      <td>t2_27zm0l8g</td>\n",
              "      <td>264376.0</td>\n",
              "      <td>105.0</td>\n",
              "      <td>t2_27zm0l8g</td>\n",
              "      <td>104.0</td>\n",
              "      <td>26283.0</td>\n",
              "      <td>47.0</td>\n",
              "      <td>14.0</td>\n",
              "      <td>...</td>\n",
              "      <td>t2_27zm0l8g</td>\n",
              "      <td>104.0</td>\n",
              "      <td>18598.0</td>\n",
              "      <td>0.000022</td>\n",
              "      <td>1243.0</td>\n",
              "      <td>4143.0</td>\n",
              "      <td>7.391569e-05</td>\n",
              "      <td>4.187049e-05</td>\n",
              "      <td>2.0</td>\n",
              "      <td>2588.0</td>\n",
              "    </tr>\n",
              "    <tr>\n",
              "      <th>4</th>\n",
              "      <td>4</td>\n",
              "      <td>t2_zia33</td>\n",
              "      <td>t2_zia33</td>\n",
              "      <td>11.0</td>\n",
              "      <td>1.0</td>\n",
              "      <td>0</td>\n",
              "      <td>0.0</td>\n",
              "      <td>0.0</td>\n",
              "      <td>0.0</td>\n",
              "      <td>0.0</td>\n",
              "      <td>...</td>\n",
              "      <td>0</td>\n",
              "      <td>0.0</td>\n",
              "      <td>0.0</td>\n",
              "      <td>0.000003</td>\n",
              "      <td>165436.0</td>\n",
              "      <td>165436.0</td>\n",
              "      <td>2.635414e-08</td>\n",
              "      <td>7.874480e-19</td>\n",
              "      <td>34864.0</td>\n",
              "      <td>131237.0</td>\n",
              "    </tr>\n",
              "  </tbody>\n",
              "</table>\n",
              "<p>5 rows × 21 columns</p>\n",
              "</div>\n",
              "    <div class=\"colab-df-buttons\">\n",
              "\n",
              "  <div class=\"colab-df-container\">\n",
              "    <button class=\"colab-df-convert\" onclick=\"convertToInteractive('df-5ff3844a-9c83-4dcd-b99a-b28d8dbb0549')\"\n",
              "            title=\"Convert this dataframe to an interactive table.\"\n",
              "            style=\"display:none;\">\n",
              "\n",
              "  <svg xmlns=\"http://www.w3.org/2000/svg\" height=\"24px\" viewBox=\"0 -960 960 960\">\n",
              "    <path d=\"M120-120v-720h720v720H120Zm60-500h600v-160H180v160Zm220 220h160v-160H400v160Zm0 220h160v-160H400v160ZM180-400h160v-160H180v160Zm440 0h160v-160H620v160ZM180-180h160v-160H180v160Zm440 0h160v-160H620v160Z\"/>\n",
              "  </svg>\n",
              "    </button>\n",
              "\n",
              "  <style>\n",
              "    .colab-df-container {\n",
              "      display:flex;\n",
              "      gap: 12px;\n",
              "    }\n",
              "\n",
              "    .colab-df-convert {\n",
              "      background-color: #E8F0FE;\n",
              "      border: none;\n",
              "      border-radius: 50%;\n",
              "      cursor: pointer;\n",
              "      display: none;\n",
              "      fill: #1967D2;\n",
              "      height: 32px;\n",
              "      padding: 0 0 0 0;\n",
              "      width: 32px;\n",
              "    }\n",
              "\n",
              "    .colab-df-convert:hover {\n",
              "      background-color: #E2EBFA;\n",
              "      box-shadow: 0px 1px 2px rgba(60, 64, 67, 0.3), 0px 1px 3px 1px rgba(60, 64, 67, 0.15);\n",
              "      fill: #174EA6;\n",
              "    }\n",
              "\n",
              "    .colab-df-buttons div {\n",
              "      margin-bottom: 4px;\n",
              "    }\n",
              "\n",
              "    [theme=dark] .colab-df-convert {\n",
              "      background-color: #3B4455;\n",
              "      fill: #D2E3FC;\n",
              "    }\n",
              "\n",
              "    [theme=dark] .colab-df-convert:hover {\n",
              "      background-color: #434B5C;\n",
              "      box-shadow: 0px 1px 3px 1px rgba(0, 0, 0, 0.15);\n",
              "      filter: drop-shadow(0px 1px 2px rgba(0, 0, 0, 0.3));\n",
              "      fill: #FFFFFF;\n",
              "    }\n",
              "  </style>\n",
              "\n",
              "    <script>\n",
              "      const buttonEl =\n",
              "        document.querySelector('#df-5ff3844a-9c83-4dcd-b99a-b28d8dbb0549 button.colab-df-convert');\n",
              "      buttonEl.style.display =\n",
              "        google.colab.kernel.accessAllowed ? 'block' : 'none';\n",
              "\n",
              "      async function convertToInteractive(key) {\n",
              "        const element = document.querySelector('#df-5ff3844a-9c83-4dcd-b99a-b28d8dbb0549');\n",
              "        const dataTable =\n",
              "          await google.colab.kernel.invokeFunction('convertToInteractive',\n",
              "                                                    [key], {});\n",
              "        if (!dataTable) return;\n",
              "\n",
              "        const docLinkHtml = 'Like what you see? Visit the ' +\n",
              "          '<a target=\"_blank\" href=https://colab.research.google.com/notebooks/data_table.ipynb>data table notebook</a>'\n",
              "          + ' to learn more about interactive tables.';\n",
              "        element.innerHTML = '';\n",
              "        dataTable['output_type'] = 'display_data';\n",
              "        await google.colab.output.renderOutput(dataTable, element);\n",
              "        const docLink = document.createElement('div');\n",
              "        docLink.innerHTML = docLinkHtml;\n",
              "        element.appendChild(docLink);\n",
              "      }\n",
              "    </script>\n",
              "  </div>\n",
              "\n",
              "\n",
              "<div id=\"df-4a3aa5b5-5ea2-470d-ab1a-79edf9cc1a93\">\n",
              "  <button class=\"colab-df-quickchart\" onclick=\"quickchart('df-4a3aa5b5-5ea2-470d-ab1a-79edf9cc1a93')\"\n",
              "            title=\"Suggest charts\"\n",
              "            style=\"display:none;\">\n",
              "\n",
              "<svg xmlns=\"http://www.w3.org/2000/svg\" height=\"24px\"viewBox=\"0 0 24 24\"\n",
              "     width=\"24px\">\n",
              "    <g>\n",
              "        <path d=\"M19 3H5c-1.1 0-2 .9-2 2v14c0 1.1.9 2 2 2h14c1.1 0 2-.9 2-2V5c0-1.1-.9-2-2-2zM9 17H7v-7h2v7zm4 0h-2V7h2v10zm4 0h-2v-4h2v4z\"/>\n",
              "    </g>\n",
              "</svg>\n",
              "  </button>\n",
              "\n",
              "<style>\n",
              "  .colab-df-quickchart {\n",
              "      --bg-color: #E8F0FE;\n",
              "      --fill-color: #1967D2;\n",
              "      --hover-bg-color: #E2EBFA;\n",
              "      --hover-fill-color: #174EA6;\n",
              "      --disabled-fill-color: #AAA;\n",
              "      --disabled-bg-color: #DDD;\n",
              "  }\n",
              "\n",
              "  [theme=dark] .colab-df-quickchart {\n",
              "      --bg-color: #3B4455;\n",
              "      --fill-color: #D2E3FC;\n",
              "      --hover-bg-color: #434B5C;\n",
              "      --hover-fill-color: #FFFFFF;\n",
              "      --disabled-bg-color: #3B4455;\n",
              "      --disabled-fill-color: #666;\n",
              "  }\n",
              "\n",
              "  .colab-df-quickchart {\n",
              "    background-color: var(--bg-color);\n",
              "    border: none;\n",
              "    border-radius: 50%;\n",
              "    cursor: pointer;\n",
              "    display: none;\n",
              "    fill: var(--fill-color);\n",
              "    height: 32px;\n",
              "    padding: 0;\n",
              "    width: 32px;\n",
              "  }\n",
              "\n",
              "  .colab-df-quickchart:hover {\n",
              "    background-color: var(--hover-bg-color);\n",
              "    box-shadow: 0 1px 2px rgba(60, 64, 67, 0.3), 0 1px 3px 1px rgba(60, 64, 67, 0.15);\n",
              "    fill: var(--button-hover-fill-color);\n",
              "  }\n",
              "\n",
              "  .colab-df-quickchart-complete:disabled,\n",
              "  .colab-df-quickchart-complete:disabled:hover {\n",
              "    background-color: var(--disabled-bg-color);\n",
              "    fill: var(--disabled-fill-color);\n",
              "    box-shadow: none;\n",
              "  }\n",
              "\n",
              "  .colab-df-spinner {\n",
              "    border: 2px solid var(--fill-color);\n",
              "    border-color: transparent;\n",
              "    border-bottom-color: var(--fill-color);\n",
              "    animation:\n",
              "      spin 1s steps(1) infinite;\n",
              "  }\n",
              "\n",
              "  @keyframes spin {\n",
              "    0% {\n",
              "      border-color: transparent;\n",
              "      border-bottom-color: var(--fill-color);\n",
              "      border-left-color: var(--fill-color);\n",
              "    }\n",
              "    20% {\n",
              "      border-color: transparent;\n",
              "      border-left-color: var(--fill-color);\n",
              "      border-top-color: var(--fill-color);\n",
              "    }\n",
              "    30% {\n",
              "      border-color: transparent;\n",
              "      border-left-color: var(--fill-color);\n",
              "      border-top-color: var(--fill-color);\n",
              "      border-right-color: var(--fill-color);\n",
              "    }\n",
              "    40% {\n",
              "      border-color: transparent;\n",
              "      border-right-color: var(--fill-color);\n",
              "      border-top-color: var(--fill-color);\n",
              "    }\n",
              "    60% {\n",
              "      border-color: transparent;\n",
              "      border-right-color: var(--fill-color);\n",
              "    }\n",
              "    80% {\n",
              "      border-color: transparent;\n",
              "      border-right-color: var(--fill-color);\n",
              "      border-bottom-color: var(--fill-color);\n",
              "    }\n",
              "    90% {\n",
              "      border-color: transparent;\n",
              "      border-bottom-color: var(--fill-color);\n",
              "    }\n",
              "  }\n",
              "</style>\n",
              "\n",
              "  <script>\n",
              "    async function quickchart(key) {\n",
              "      const quickchartButtonEl =\n",
              "        document.querySelector('#' + key + ' button');\n",
              "      quickchartButtonEl.disabled = true;  // To prevent multiple clicks.\n",
              "      quickchartButtonEl.classList.add('colab-df-spinner');\n",
              "      try {\n",
              "        const charts = await google.colab.kernel.invokeFunction(\n",
              "            'suggestCharts', [key], {});\n",
              "      } catch (error) {\n",
              "        console.error('Error during call to suggestCharts:', error);\n",
              "      }\n",
              "      quickchartButtonEl.classList.remove('colab-df-spinner');\n",
              "      quickchartButtonEl.classList.add('colab-df-quickchart-complete');\n",
              "    }\n",
              "    (() => {\n",
              "      let quickchartButtonEl =\n",
              "        document.querySelector('#df-4a3aa5b5-5ea2-470d-ab1a-79edf9cc1a93 button');\n",
              "      quickchartButtonEl.style.display =\n",
              "        google.colab.kernel.accessAllowed ? 'block' : 'none';\n",
              "    })();\n",
              "  </script>\n",
              "</div>\n",
              "\n",
              "    </div>\n",
              "  </div>\n"
            ],
            "application/vnd.google.colaboratory.intrinsic+json": {
              "type": "dataframe",
              "variable_name": "all_users"
            }
          },
          "metadata": {},
          "execution_count": 384
        }
      ]
    },
    {
      "cell_type": "code",
      "source": [
        "all_users['Karama_Rank_Weight'] = all_users['weight'].rank(ascending=False)\n",
        "all_users['Karama_Rank_score'] = all_users['comments_score_sum'].rank(ascending=False)"
      ],
      "metadata": {
        "id": "H0pAQ5Yb9FgE"
      },
      "execution_count": 385,
      "outputs": []
    },
    {
      "cell_type": "code",
      "source": [
        "print( spearmanr((all_users['comments_score_sum']), (all_users['comments_score_sum_pos'])) )\n",
        "print( kendalltau(( all_users['comments_score_sum']), (all_users['comments_score_sum_pos']) ))\n",
        "\n",
        "print( spearmanr((all_users['pr']), (all_users['weight'])) )\n",
        "print( kendalltau(( all_users['pr']), (all_users['weight']) ))\n",
        "print( spearmanr((all_users['pr']), (all_users['comments_score_sum'])) )\n",
        "print( kendalltau(( all_users['pr']), (all_users['comments_score_sum']) ))\n",
        "\n",
        "print( spearmanr((all_users['Karama_Rank_score']), (all_users['PageRank_Rank'])) )\n",
        "print( kendalltau(( all_users['Karama_Rank_score']), (all_users['PageRank_Rank']) ))\n",
        "\n",
        "print( spearmanr(all_users['Karama_Rank_score'], all_users['Karama_Rank_Weight']) )\n",
        "print( kendalltau(all_users['Karama_Rank_score'], all_users['Karama_Rank_Weight']) )"
      ],
      "metadata": {
        "id": "6f7nlr1R1ZFU",
        "colab": {
          "base_uri": "https://localhost:8080/"
        },
        "outputId": "050cd248-0c29-4507-ef21-fbdbc039b8a3"
      },
      "execution_count": 387,
      "outputs": [
        {
          "output_type": "stream",
          "name": "stdout",
          "text": [
            "SignificanceResult(statistic=0.937610833358653, pvalue=0.0)\n",
            "SignificanceResult(statistic=0.8758544655420356, pvalue=0.0)\n",
            "SignificanceResult(statistic=0.9035893065985531, pvalue=0.0)\n",
            "SignificanceResult(statistic=0.7581787867728544, pvalue=0.0)\n",
            "SignificanceResult(statistic=0.8301026407230726, pvalue=0.0)\n",
            "SignificanceResult(statistic=0.6784023822227719, pvalue=0.0)\n",
            "SignificanceResult(statistic=0.8301026407230726, pvalue=0.0)\n",
            "SignificanceResult(statistic=0.6784023822227718, pvalue=0.0)\n",
            "SignificanceResult(statistic=0.945711827808173, pvalue=0.0)\n",
            "SignificanceResult(statistic=0.8900611819162488, pvalue=0.0)\n"
          ]
        }
      ]
    },
    {
      "cell_type": "code",
      "source": [
        "all_users['calc_score'] = all_users['weight'] / ( all_users['count_unique_comment'] / all_users['count_unique_posts_asker']  )\n",
        "all_users['calc_score'] = all_users['calc_score'].fillna(0)"
      ],
      "metadata": {
        "id": "tgyjuX7l8GaT"
      },
      "execution_count": null,
      "outputs": []
    },
    {
      "cell_type": "code",
      "source": [],
      "metadata": {
        "id": "QJWZnsja2d0t"
      },
      "execution_count": null,
      "outputs": []
    },
    {
      "cell_type": "code",
      "source": [
        "import matplotlib.pyplot as plt\n",
        "\n",
        "# Extract weights from the graph\n",
        "weights = all_users['weight']\n",
        "\n",
        "# Plot the distribution of weights\n",
        "plt.hist(weights , bins = 10, log = True )\n",
        "plt.xlabel('Weight')\n",
        "plt.ylabel('Frequency')\n",
        "plt.title('Distribution of Weight in Graph')\n",
        "plt.show()"
      ],
      "metadata": {
        "id": "B17rYQc4-DFY"
      },
      "execution_count": null,
      "outputs": []
    },
    {
      "cell_type": "code",
      "source": [
        "print( spearmanr((all_users['comments_score_sum']), (all_users['calc_score'])) )\n",
        "print( kendalltau(( all_users['comments_score_sum']), (all_users['calc_score']) ))\n",
        "\n",
        "print( spearmanr((all_users['pr']), (all_users['calc_score'])) )\n",
        "print( kendalltau(( all_users['pr']), (all_users['calc_score']) ))"
      ],
      "metadata": {
        "id": "j1lJ4I3F-dt7"
      },
      "execution_count": null,
      "outputs": []
    },
    {
      "cell_type": "code",
      "source": [
        "all_users['Rank_calc_score'] = all_users['calc_score'].rank(ascending=False)"
      ],
      "metadata": {
        "id": "2C3P89uIDQ8_"
      },
      "execution_count": null,
      "outputs": []
    },
    {
      "cell_type": "code",
      "source": [
        "all_users.head()"
      ],
      "metadata": {
        "id": "Bs29sf6_-slM"
      },
      "execution_count": null,
      "outputs": []
    },
    {
      "cell_type": "code",
      "source": [
        "all_users['z_score'] = zscore( all_users['comments_score_sum'] )"
      ],
      "metadata": {
        "id": "wejcuwi6Isv9"
      },
      "execution_count": null,
      "outputs": []
    },
    {
      "cell_type": "code",
      "source": [
        "all_users.to_csv('users.csv')"
      ],
      "metadata": {
        "id": "tYWktiWcIoMy"
      },
      "execution_count": null,
      "outputs": []
    },
    {
      "cell_type": "code",
      "source": [
        "# Formatting results into a table\n",
        "results = {\n",
        "    'year' : [year],\n",
        "    'year' : [year],\n",
        "    'num nodes':[num_nodes],\n",
        "    'num edges' : [num_edges],\n",
        "    'a': [a],\n",
        "    'ExpertRank_Spearman’s rho': [spearman_pagerank_rho],\n",
        "    'ExpertRank_Kendall’s Tau': [kendall_pagerank_tau],\n",
        "    'HITS Hubs_Spearman’s rho': [spearman_hubs_rho],\n",
        "    'HITS Hubs_Kendall’s Tau': [kendall_hubs_tau],\n",
        "    'HITS Auth_Spearman’s rho': [spearman_authorities_rho],\n",
        "    'HITS Auth_Kendall’s Tau': [kendall_authorities_tau]\n",
        "}\n",
        "\n",
        "# Creating DataFrame\n",
        "df_results = pd.DataFrame(results)\n",
        "\n",
        "# Displaying the formatted DataFrame\n",
        "df_results.head()"
      ],
      "metadata": {
        "id": "cCKAxWTmzk-l"
      },
      "execution_count": null,
      "outputs": []
    },
    {
      "cell_type": "code",
      "source": [
        "all_users['Post_Rank'] = all_users['count_unique_posts'].rank(ascending=False)\n",
        "print( spearmanr(all_users['Hubs_Rank'], all_users['Post_Rank']) )\n",
        "print( kendalltau(all_users['Hubs_Rank'], all_users['Post_Rank']) )"
      ],
      "metadata": {
        "id": "HY_ArYeLdfWa"
      },
      "execution_count": null,
      "outputs": []
    },
    {
      "cell_type": "code",
      "source": [
        "#all_users['PageRank_Rank'].head(20)\n",
        "all_users['Karama_Rank'].head(20)"
      ],
      "metadata": {
        "id": "rI-G41-yGkVV"
      },
      "execution_count": null,
      "outputs": []
    },
    {
      "cell_type": "code",
      "source": [
        "all_users.loc[( all_users['comments_score_sum']== 0 )].head()"
      ],
      "metadata": {
        "id": "JvH7ddYawZAy"
      },
      "execution_count": null,
      "outputs": []
    },
    {
      "cell_type": "code",
      "source": [
        "all_users.loc[all_users['author_fullname'] == 't2_6wul2']"
      ],
      "metadata": {
        "id": "y0oo07hhHLmF"
      },
      "execution_count": null,
      "outputs": []
    },
    {
      "cell_type": "code",
      "source": [
        "edges_list_grouped.to_csv('edges.csv')"
      ],
      "metadata": {
        "id": "djFTjvFVz8Ro"
      },
      "execution_count": null,
      "outputs": []
    },
    {
      "cell_type": "code",
      "source": [
        "all_users.to_csv(subrredit + '_users.csv')"
      ],
      "metadata": {
        "id": "bmdObHESqAm4"
      },
      "execution_count": null,
      "outputs": []
    },
    {
      "cell_type": "code",
      "source": [
        "from scipy.stats import zscore\n",
        "\n",
        "def z_score_normalization(ranks):\n",
        "    return zscore(ranks)\n",
        "\n",
        "# Example usage\n",
        "all_users['PageRank_Rank'] = z_score_normalization(all_users['pr'])\n",
        "all_users['Karama_Rank'] = z_score_normalization(all_users['comments_score_sum'])\n",
        "all_users['Hubs_Rank'] = z_score_normalization(all_users['hubs'])\n",
        "all_users['Authorities_Rank'] = z_score_normalization(all_users['authorities'])\n",
        "\n",
        "#print(\"PageRank Z-Scores:\", pagerank_z_scores)\n",
        "#print(\"Comment Score Z-Scores:\", comment_score_z_scores)\n"
      ],
      "metadata": {
        "id": "VR_YkXC35KME"
      },
      "execution_count": null,
      "outputs": []
    },
    {
      "cell_type": "code",
      "source": [
        "#G.in_degree('Simulate_Me_Bot')\n",
        "#print(G.edges('t2_6wul2'))\n",
        "edge = pd.DataFrame(G.edges(data='weight'), columns = ['from', 'to', 'weight'] )\n",
        "\n",
        "#print(sum( edge['weight']))\n",
        "edge.head()"
      ],
      "metadata": {
        "id": "Y65j4aJLHSjV"
      },
      "execution_count": null,
      "outputs": []
    },
    {
      "cell_type": "code",
      "source": [
        "# Get all edges to and from 't2_6wul2' with their weights\n",
        "edges = G.edges('t2_6wul2', data='weight')\n",
        "\n",
        "# Print the edges\n",
        "print(edges)\n"
      ],
      "metadata": {
        "id": "k4NbBn1Myrfg"
      },
      "execution_count": null,
      "outputs": []
    },
    {
      "cell_type": "code",
      "source": [
        "edge_list[(edge_list['author_fullname_comment'] == 'Simulate_Me_Bot') | (edge_list['author_fullname_post'] == 'Simulate_Me_Bot') ].to_csv('Simulate_Me_Bot.csv')"
      ],
      "metadata": {
        "id": "xAG2gSIw-We3"
      },
      "execution_count": null,
      "outputs": []
    },
    {
      "cell_type": "code",
      "source": [
        "merged_df[(merged_df['author_fullname_comment'] == 't2_9dvo687') & (merged_df['author_fullname_post'] == 't2_9dvo687') ]"
      ],
      "metadata": {
        "id": "vPkG2PteUOXI"
      },
      "execution_count": null,
      "outputs": []
    },
    {
      "cell_type": "code",
      "source": [
        "print(df_results.to_string(index=False))"
      ],
      "metadata": {
        "id": "t_v_leA_2JqB"
      },
      "execution_count": null,
      "outputs": []
    },
    {
      "cell_type": "code",
      "source": [
        "#df_results.to_csv()"
      ],
      "metadata": {
        "id": "-9ecQiKc3SV1"
      },
      "execution_count": null,
      "outputs": []
    },
    {
      "cell_type": "code",
      "source": [
        "in_degrees = pd.DataFrame([( node , val) for (node, val) in G.in_degree()])\n",
        "in_degrees.columns = [\"node\", \"in_degrees\"]\n",
        "#in_degrees.loc[in_degrees[\"in_degrees\"] <= 0]\n",
        "\n",
        "out_degrees = pd.DataFrame([( node , val) for (node, val) in G.out_degree()])\n",
        "out_degrees.columns = [\"node\", \"out_degree\"]\n",
        "#out_degrees.loc[out_degrees[\"out_degree\"] <= 0]"
      ],
      "metadata": {
        "id": "AWm1QBQ36eNJ"
      },
      "execution_count": null,
      "outputs": []
    },
    {
      "cell_type": "code",
      "source": [
        "from collections import Counter\n",
        "from operator import itemgetter\n",
        "import matplotlib.pyplot as plt\n",
        "\n",
        "in_degree_counts = Counter(in_degrees[\"in_degrees\"])\n",
        "i_x, i_y = zip(*in_degree_counts.items())\n",
        "\n",
        "plt.figure(figsize=(12, 8))\n",
        "\n",
        "out_degree_counts = Counter(out_degrees[\"out_degree\"])\n",
        "o_x, o_y = zip(*out_degree_counts.items())\n",
        "\n",
        "# prep axes\n",
        "plt.xlabel('degree')\n",
        "plt.xscale('log')\n",
        "plt.xlim(1, max(o_x) )\n",
        "\n",
        "plt.ylabel('frequency')\n",
        "plt.yscale('log')\n",
        "plt.ylim(1, max(o_y))\n",
        "                                                                                                                                     # do plot\n",
        "plt.scatter(i_x, i_y, marker='.', label ='in degree = Question')\n",
        "plt.scatter(o_x, o_y, marker='*', label ='out degree = Answers')\n",
        "plt.legend()\n",
        "plt.show()"
      ],
      "metadata": {
        "id": "kPyR1OUX6jbZ"
      },
      "execution_count": null,
      "outputs": []
    },
    {
      "cell_type": "code",
      "source": [
        "all_users['authorities'].plot.hist( bins = 10, log = True )"
      ],
      "metadata": {
        "id": "qPQZKCIx-97k"
      },
      "execution_count": null,
      "outputs": []
    },
    {
      "cell_type": "code",
      "source": [
        "all_users['karama'].plot.hist( bins = 10, log = True )"
      ],
      "metadata": {
        "id": "Lx235Q4f_KKb"
      },
      "execution_count": null,
      "outputs": []
    },
    {
      "cell_type": "code",
      "source": [
        "all_users['comments_score_sum'].plot.hist( bins = 10, log = True )"
      ],
      "metadata": {
        "id": "U17pGQrguMyl"
      },
      "execution_count": null,
      "outputs": []
    },
    {
      "cell_type": "code",
      "source": [
        "all_users['weight'].plot.hist( bins = 10, log = True )"
      ],
      "metadata": {
        "id": "trmaPmTldGx2"
      },
      "execution_count": null,
      "outputs": []
    },
    {
      "cell_type": "code",
      "source": [
        "all_users['pr'].plot.hist( bins = 10, log = True )"
      ],
      "metadata": {
        "id": "d7v3X6Ng_L4i"
      },
      "execution_count": null,
      "outputs": []
    },
    {
      "cell_type": "code",
      "source": [
        "all_users['hubs'].plot.hist( bins = 10, log = True )"
      ],
      "metadata": {
        "id": "qKcC7es6dS3s"
      },
      "execution_count": null,
      "outputs": []
    },
    {
      "cell_type": "code",
      "source": [
        "all_users['count_unique_posts'].plot.hist( bins = 10, log = True )"
      ],
      "metadata": {
        "id": "STKGrBBieRt0"
      },
      "execution_count": null,
      "outputs": []
    },
    {
      "cell_type": "code",
      "source": [
        "# prompt: show table with num of comments and posts every year\n",
        "\n",
        "import datetime as dt\n",
        "\n",
        "# Convert the datetime_utc column to datetime objects\n",
        "merged_df['datetime_utc_post'] = pd.to_datetime(merged_df['datetime_utc_post'])\n",
        "\n",
        "# Extract the year from the datetime objects\n",
        "merged_df['year'] = merged_df['datetime_utc_post'].dt.year\n",
        "\n",
        "# Group the data by year and count the number of posts and comments\n",
        "# Assuming merged_df is your DataFrame\n",
        "grouped_df = merged_df.groupby('year').agg({\n",
        "    'id_post': 'nunique',\n",
        "    'id_comment': 'nunique'\n",
        "}).rename(columns={\n",
        "    'id_post': 'count_unique_posts',\n",
        "    'id_comment': 'count_unique_comments'\n",
        "})\n",
        "\n",
        "# Rename the columns\n",
        "grouped_df.columns = ['num_posts', 'num_comments']\n",
        "\n",
        "# Print the table\n",
        "print(grouped_df.to_string())"
      ],
      "metadata": {
        "id": "PRJoa2efyt6Z"
      },
      "execution_count": null,
      "outputs": []
    },
    {
      "cell_type": "code",
      "source": [
        "posts_df.head()"
      ],
      "metadata": {
        "id": "bnxwiZIshWM2"
      },
      "execution_count": null,
      "outputs": []
    },
    {
      "cell_type": "code",
      "source": [
        "answers_first = comments_df.groupby(\"post_id\")[\"datetime_utc\"].min()\n",
        "question_first_answer = pd.merge( posts_df , answers_first, how=\"left\", left_on=\"id_x\", right_on=\"post_id\" , suffixes=('_post', '_comment'))\n",
        "question_first_answer['time_to_answer'] = question_first_answer['datetime_utc_comment'] - question_first_answer['datetime_utc_post']\n"
      ],
      "metadata": {
        "id": "w_isARCR4UFS"
      },
      "execution_count": null,
      "outputs": []
    },
    {
      "cell_type": "code",
      "source": [
        "sorted_df = comments_df.sort_values('datetime_utc')\n",
        "sorted_df['datetime_utc'] = pd.to_datetime(sorted_df['datetime_utc'])\n",
        "\n",
        "# Compute the differences on the sorted DataFrame\n",
        "sorted_df['diff'] = sorted_df['datetime_utc'].diff()\n",
        "\n",
        "sorted_df = sorted_df.reset_index()\n"
      ],
      "metadata": {
        "id": "P2HAhlHS8nJM"
      },
      "execution_count": null,
      "outputs": []
    },
    {
      "cell_type": "code",
      "source": [
        "print(sorted_df['diff'].mean())\n",
        "print( sorted_df['diff'].median())"
      ],
      "metadata": {
        "id": "p6tQdXawDLKX"
      },
      "execution_count": null,
      "outputs": []
    },
    {
      "cell_type": "code",
      "source": [
        "question_first_answer[['time_to_answer', 'datetime_utc_comment', 'datetime_utc_post']]\n"
      ],
      "metadata": {
        "id": "i6r1leX85jGE"
      },
      "execution_count": null,
      "outputs": []
    },
    {
      "cell_type": "code",
      "source": [
        "#timeAverage(edge_list['time_to_answer'] , avg.time = \"hour\")\n",
        "print( \"avg time to answer\")\n",
        "print(question_first_answer['time_to_answer'].mean())\n",
        "print( \"median time to answer\")\n",
        "print(question_first_answer['time_to_answer'].median())\n",
        "#edge_list.dtypes\n",
        "print( \"avg time a\")\n",
        "print( comments_df['datetime_utc'].sort_values().diff().mean() )\n",
        "#posts_df['date_cr'] = pd.to_datetime(question_df['creation_date'])\n",
        "print( \"avg time q\")\n",
        "print( posts_df['datetime_utc'].sort_values().diff().mean() )\n",
        "#.agg( {'avg_time_diff' : lambda group: group.sort_values().diff().mean()})\n",
        "#print(full_df.loc[full_df[\"id_x\"]!=full_df[\"accepted_answer_id_y\"]]['time_to_answer'].median())"
      ],
      "metadata": {
        "id": "yNFXUeAs4I4i"
      },
      "execution_count": null,
      "outputs": []
    },
    {
      "cell_type": "code",
      "source": [
        "sorted_df[['datetime_utc', 'diff']].sort_values('datetime_utc').head(20)#.diff()"
      ],
      "metadata": {
        "id": "U7KQ-n5s7-qK"
      },
      "execution_count": null,
      "outputs": []
    },
    {
      "cell_type": "code",
      "source": [
        "print(comments_df['datetime_utc'].sort_values().diff().mean())\n",
        "print(comments_df['datetime_utc'].sort_values().diff().median())"
      ],
      "metadata": {
        "id": "Z0oKevbv8WkX"
      },
      "execution_count": null,
      "outputs": []
    },
    {
      "cell_type": "code",
      "source": [
        "# Group the comments DataFrame by 'post_id' and count the comments for each post\n",
        "comment_counts = comments_df.groupby('post_id')['id'].count()\n",
        "\n",
        "# Add a new column 'num_comments' to the posts_df DataFrame\n",
        "# Use a left join to match comment counts to post IDs, filling missing values with 0\n",
        "posts_df = posts_df.merge(comment_counts, how='left', left_on='id', right_index=True).fillna(0)\n",
        "\n",
        "# Rename the count column to 'num_comments'\n",
        "posts_df = posts_df.rename(columns={'id_comment': 'num_comments'})\n",
        "\n",
        "# Convert 'num_comments' column to integer type\n",
        "posts_df['num_comments'] = posts_df['num_comments'].astype(int)\n",
        "\n",
        "# prompt: show table with num of comments and posts every year\n",
        "\n",
        "import datetime as dt\n",
        "\n",
        "# Convert the datetime_utc column to datetime objects\n",
        "posts_df['datetime_utc'] = pd.to_datetime(posts_df['datetime_utc'])\n",
        "\n",
        "# Extract the year from the datetime objects\n",
        "posts_df['year'] = posts_df['datetime_utc'].dt.year\n",
        "\n"
      ],
      "metadata": {
        "id": "hL8fBYx1MHSG"
      },
      "execution_count": null,
      "outputs": []
    },
    {
      "cell_type": "code",
      "source": [
        "print( \"avg time to answer\")\n",
        "print(question_first_answer['time_to_answer'].mean())\n",
        "print( \"median time to answer\")\n",
        "print(question_first_answer['time_to_answer'].median())\n",
        "\n",
        "question_first_answer['datetime_utc_post'] = pd.to_datetime(question_first_answer['datetime_utc_post'], errors='coerce')\n",
        "\n",
        "question_first_answer['year'] = question_first_answer['datetime_utc_post'].dt.year\n",
        "\n",
        "grouped_df = question_first_answer.groupby('year').agg({\n",
        "    'id_x': 'nunique',\n",
        "    'num_comments': ['mean', 'sum'],\n",
        "    'time_to_answer' : ['mean', 'median']\n",
        "\n",
        "})\n",
        "\n",
        "# Rename the columns\n",
        "#grouped_df.columns = ['num_posts', 'num_comments','avg_comments']\n",
        "\n",
        "# Print the table\n",
        "grouped_df"
      ],
      "metadata": {
        "id": "kVgaN6ZbQ2xA"
      },
      "execution_count": null,
      "outputs": []
    },
    {
      "cell_type": "code",
      "source": [
        "valid_question_first_answer = question_first_answer['datetime_utc_comment'].dropna()\n",
        "grouped_df = question_first_answer.groupby('year').agg({\n",
        "    'id': 'nunique',\n",
        "    'num_comments': ['mean', 'sum'],\n",
        "    'time_to_answer' : ['mean', lambda x: x.median(skipna=True)]\n",
        "\n",
        "})\n",
        "\n",
        "grouped_df.head(20)"
      ],
      "metadata": {
        "id": "9Ew6iUBfTxxR"
      },
      "execution_count": null,
      "outputs": []
    },
    {
      "cell_type": "code",
      "source": [
        "question_first_answer[['datetime_utc_post', 'datetime_utc_comment', 'time_to_answer']].head(10)"
      ],
      "metadata": {
        "id": "DU7nIREBS6jx"
      },
      "execution_count": null,
      "outputs": []
    },
    {
      "cell_type": "code",
      "source": [
        "# Group the data by year and count the number of posts and comments\n",
        "# Assuming merged_df is your DataFrame\n",
        "grouped_df = posts_df.groupby('year').agg({\n",
        "    'id': 'nunique',\n",
        "    'num_comments': ['sum', 'mean']\n",
        "})\n",
        "\n",
        "# Rename the columns\n",
        "#grouped_df.columns = ['num_posts', 'num_comments','avg_comments']\n",
        "\n",
        "# Print the table\n",
        "grouped_df"
      ],
      "metadata": {
        "id": "RcRgtyg4PUpz"
      },
      "execution_count": null,
      "outputs": []
    },
    {
      "cell_type": "code",
      "source": [
        "all_users.to_csv('uses_1.csv')"
      ],
      "metadata": {
        "id": "urR-rgGwDL6L"
      },
      "execution_count": null,
      "outputs": []
    },
    {
      "cell_type": "code",
      "source": [
        "# prompt: plot correletion of karama rank and pagerank rank\n",
        "\n",
        "import matplotlib.pyplot as plt\n",
        "import seaborn as sns\n",
        "# Extract the relevant columns from all_users\n",
        "karama_rank = all_users['Karama_Rank']\n",
        "pagerank_rank = all_users['PageRank_Rank']\n",
        "correlation = all_users['Karama_Rank'].corr(all_users['PageRank_Rank'])\n",
        "print(f\"Correlation between field1 and field2: {correlation:.4f}\")\n",
        "\n",
        "# Plot correlation\n",
        "plt.figure(figsize=(10, 6))\n",
        "sns.scatterplot(data=all_users, x='Karama_Rank', y='PageRank_Rank')\n",
        "plt.title('Correlation between Field1 and Field2')\n",
        "plt.xlabel('Karama_Rank')\n",
        "plt.ylabel('PageRank_Rank')\n",
        "plt.grid(True)"
      ],
      "metadata": {
        "id": "MLqF4_ddNfbl"
      },
      "execution_count": null,
      "outputs": []
    },
    {
      "cell_type": "code",
      "source": [
        "import pandas as pd\n",
        "import matplotlib.pyplot as plt\n",
        "import seaborn as sns\n",
        "\n",
        "# Assuming you have the data loaded in a DataFrame df with columns 'Karama_Rank' and 'PageRank_Rank'\n",
        "df = all_users  # Load your data file\n",
        "\n",
        "# Calculate correlation\n",
        "correlation = df['Karama_Rank'].corr(df['PageRank_Rank'])\n",
        "print(f\"Correlation between Karama_Rank and PageRank_Rank: {correlation:.4f}\")\n",
        "\n",
        "# Create histograms\n",
        "plt.figure(figsize=(12, 6))\n",
        "\n",
        "plt.subplot(1, 2, 1)\n",
        "sns.histplot(df['Karama_Rank'], bins=50, kde=True)\n",
        "plt.title('Distribution of Karama_Rank')\n",
        "\n",
        "plt.subplot(1, 2, 2)\n",
        "sns.histplot(df['PageRank_Rank'], bins=50, kde=True)\n",
        "plt.title('Distribution of PageRank_Rank')\n",
        "\n",
        "plt.tight_layout()\n",
        "plt.show()\n"
      ],
      "metadata": {
        "id": "vGVcjWF6P2r2"
      },
      "execution_count": null,
      "outputs": []
    }
  ],
  "metadata": {
    "colab": {
      "provenance": [],
      "mount_file_id": "1ty-OSzSazgDD6LvU6rRrlKjz_dgRbQDP",
      "authorship_tag": "ABX9TyOTXJNho9KbrQPWVjKg+8uT",
      "include_colab_link": true
    },
    "kernelspec": {
      "display_name": "Python 3",
      "name": "python3"
    },
    "language_info": {
      "name": "python"
    }
  },
  "nbformat": 4,
  "nbformat_minor": 0
}