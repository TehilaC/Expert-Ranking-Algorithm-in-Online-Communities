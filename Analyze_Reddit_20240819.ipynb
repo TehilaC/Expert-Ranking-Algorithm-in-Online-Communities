{
  "cells": [
    {
      "cell_type": "markdown",
      "metadata": {
        "id": "view-in-github",
        "colab_type": "text"
      },
      "source": [
        "<a href=\"https://colab.research.google.com/github/TehilaC/Expert-Ranking-Algorithm-in-Online-Communities/blob/main/Analyze_Reddit_20240819.ipynb\" target=\"_parent\"><img src=\"https://colab.research.google.com/assets/colab-badge.svg\" alt=\"Open In Colab\"/></a>"
      ]
    },
    {
      "cell_type": "markdown",
      "metadata": {
        "id": "3uX02A6jxzX_"
      },
      "source": [
        "**כניסה לגוגל**"
      ]
    },
    {
      "cell_type": "code",
      "execution_count": null,
      "metadata": {
        "id": "boxHU-TNx0Rh"
      },
      "outputs": [],
      "source": [
        "#from google.colab import auth\n",
        "#auth.authenticate_user()"
      ]
    },
    {
      "cell_type": "code",
      "execution_count": null,
      "metadata": {
        "id": "4JxMM_umR48o"
      },
      "outputs": [],
      "source": [
        "import networkx as nx\n",
        "import numpy as np\n",
        "import pandas as pd\n",
        "from sklearn import preprocessing\n",
        "from sklearn.model_selection import train_test_split\n",
        "from sklearn.metrics import confusion_matrix\n",
        "from sklearn.linear_model import LogisticRegression\n",
        "from sklearn.metrics import classification_report\n",
        "from scipy.stats import zscore\n",
        "\n",
        "import matplotlib.pyplot as plt\n",
        "from networkx import Graph\n",
        "\n",
        "from urllib.request import urlopen\n",
        "from bs4 import BeautifulSoup\n",
        "\n",
        "import codecs"
      ]
    },
    {
      "cell_type": "markdown",
      "metadata": {
        "id": "fCO7BHywDUi8"
      },
      "source": [
        "*   Get posts & comments data from BigQuery\n",
        "*   Save merge df\n",
        "\n",
        "\n"
      ]
    },
    {
      "cell_type": "code",
      "execution_count": null,
      "metadata": {
        "id": "tSiX8bodENjf"
      },
      "outputs": [],
      "source": [
        "from google.cloud import bigquery\n",
        "from google.oauth2 import service_account\n",
        "import pandas as pd\n",
        "\n",
        "# Authenticate to BigQuery\n",
        "credentials = service_account.Credentials.from_service_account_file(\n",
        "    '/content/savvy-night-308317-be1fc47939da.json'\n",
        ")\n",
        "\n",
        "client = bigquery.Client(credentials=credentials, project=credentials.project_id)\n",
        "\n",
        "# Define queries to get the necessary data\n",
        "posts_query = \"\"\"\n",
        "select id, title, selftext, ups, downs, subreddit, author, author_fullname, DATETIME(TIMESTAMP_SECONDS(cast(created_utc as int64))) AS datetime_utc, num_comments, num_crossposts, num_reports, score\n",
        "from `savvy-night-308317.reddit.Posts_clean`\n",
        "\"\"\"\n",
        "\n",
        "comments_query = \"\"\"\n",
        "select id, link_id , body , parent_id, ups, downs, subreddit, author, author_fullname, DATETIME(TIMESTAMP_SECONDS(cast(created_utc as int64))) AS datetime_utc,score\n",
        "from `savvy-night-308317.reddit.Comments_clean`\n",
        "\"\"\"\n",
        "\n",
        "# Execute queries\n",
        "posts_df_source = client.query(posts_query).to_dataframe()\n",
        "comments_df_source = client.query(comments_query).to_dataframe()\n",
        "\n",
        "# Merging comments with their respective posts\n",
        "# Extract the post ID from the link_id in comments\n",
        "comments_df_source['post_id'] = comments_df_source['link_id'].str.extract(r't3_(.*)')\n",
        "\n",
        "# Initialize a column for post_id in comments_df to track the original post for subcomments\n",
        "comments_df_source['original_comment_id'] = comments_df_source['parent_id'].str.extract(r't1_(.*)')"
      ]
    },
    {
      "cell_type": "code",
      "execution_count": null,
      "metadata": {
        "id": "ssOMJ2yiwzj0"
      },
      "outputs": [],
      "source": [
        "year = 2013\n",
        "subrredit = 'Python'\n",
        "#subrredit = 'learnpython'"
      ]
    },
    {
      "cell_type": "code",
      "execution_count": null,
      "metadata": {
        "id": "IxjthnqjljYG"
      },
      "outputs": [],
      "source": [
        "posts_df = posts_df_source[posts_df_source['subreddit'].apply(lambda x: x == subrredit )]\n",
        "comments_df = comments_df_source[ comments_df_source['subreddit'].apply(lambda x: x == subrredit )]\n",
        "posts_df = posts_df.loc[(posts_df['datetime_utc'].dt.year >= 2015 )& (posts_df['datetime_utc'].dt.year<= 2023 )]\n",
        "\n",
        "comments_df.loc[:, 'author_fullname'] = comments_df['author_fullname'].fillna(comments_df['author'])\n",
        "posts_df.loc[:, 'author_fullname'] = posts_df['author_fullname'].fillna(posts_df['author'])"
      ]
    },
    {
      "cell_type": "code",
      "execution_count": null,
      "metadata": {
        "id": "4BrlWRCR_wy-"
      },
      "outputs": [],
      "source": [
        "#remove [delete] users\n",
        "comments_df = comments_df[comments_df['author_fullname'] != '[deleted]']\n",
        "posts_df = posts_df[posts_df['author_fullname'] != '[deleted]']"
      ]
    },
    {
      "cell_type": "markdown",
      "metadata": {
        "id": "AEWTqDUAe3ZN"
      },
      "source": [
        "Merge posts and commens"
      ]
    },
    {
      "cell_type": "code",
      "execution_count": null,
      "metadata": {
        "id": "7JxTdZEZPx3G"
      },
      "outputs": [],
      "source": [
        "# Merge comments with posts\n",
        "merged_df = comments_df.merge(posts_df, left_on='post_id', right_on='id', suffixes=('_comment', '_post'))"
      ]
    },
    {
      "cell_type": "code",
      "execution_count": null,
      "metadata": {
        "id": "vbXIl6D8NIfE"
      },
      "outputs": [],
      "source": [
        "edge_list = merged_df[[ 'author_post', 'author_fullname_post', 'author_comment', 'author_fullname_comment'\n",
        "                       , 'score_comment' , 'score_post' ,'id_post', 'id_comment']]"
      ]
    },
    {
      "cell_type": "markdown",
      "metadata": {
        "id": "JruSM8gBIRJG"
      },
      "source": [
        "Cleaning"
      ]
    },
    {
      "cell_type": "code",
      "execution_count": null,
      "metadata": {
        "id": "WvwsIJoMIWV9"
      },
      "outputs": [],
      "source": [
        "posts_df = posts_df.drop_duplicates()\n",
        "comments_df = comments_df.drop_duplicates()\n",
        "edge_list = edge_list.dropna()"
      ]
    },
    {
      "cell_type": "code",
      "execution_count": null,
      "metadata": {
        "id": "_HDVJSctyajJ"
      },
      "outputs": [],
      "source": [
        "# delete all selfeloop edges\n",
        "edge_list = edge_list[edge_list['author_fullname_post'] != edge_list['author_fullname_comment']]"
      ]
    },
    {
      "cell_type": "markdown",
      "metadata": {
        "id": "qhJTysy1fESz"
      },
      "source": [
        "Create **users** df:\n",
        "\n",
        "\n",
        "*   Only active users\n",
        "*   no duplicates\n",
        "*   Additional data:\n",
        "    *  Posts : num of posts, sum of all scores\n",
        "    *  Comments : num of comments, sum of all comments, unique count of askers"
      ]
    },
    {
      "cell_type": "code",
      "execution_count": null,
      "metadata": {
        "colab": {
          "base_uri": "https://localhost:8080/"
        },
        "id": "keMDrIqqNt6A",
        "outputId": "c3303985-bc4b-4633-defb-261f2af0c934"
      },
      "outputs": [
        {
          "output_type": "stream",
          "name": "stdout",
          "text": [
            "1235154\n",
            "1235154\n"
          ]
        }
      ],
      "source": [
        "all_users = pd.concat([posts_df[\"author_fullname\"], comments_df[\"author_fullname\"]]).reset_index(name='author_fullname')\n",
        "#all_users = pd.concat([edge_list['author_fullname_post'], edge_list['author_fullname_comment']]).reset_index(name='author_fullname')\n",
        "print(len(all_users) )\n",
        "all_users.drop_duplicates()\n",
        "print(len(all_users) )\n",
        "\n",
        "# add scores - calculate karama\n",
        "post_score_sum = edge_list.groupby('author_fullname_post').agg({\n",
        "    'score_post': 'sum',\n",
        "    'id_post': 'nunique'\n",
        "}).rename(columns={\n",
        "    'id_post': 'count_unique_posts',\n",
        "    'score_post': 'post_score_sum'\n",
        "}).reset_index()\n",
        "all_users = all_users.merge(post_score_sum, how='left', left_on='author_fullname', right_on='author_fullname_post')\n",
        "\n",
        "comments_score_sum = edge_list.groupby('author_fullname_comment').agg({\n",
        "    'score_comment': 'sum',\n",
        "    'id_comment': 'nunique',\n",
        "    'author_fullname_post': 'nunique'\n",
        "}).rename(columns={\n",
        "    'score_comment': 'comments_score_sum',\n",
        "    'id_comment': 'count_unique_comment',\n",
        "    'author_fullname_post': 'count_unique_posts_asker'\n",
        "}).reset_index()\n",
        "\n",
        "all_users = all_users.merge(comments_score_sum, how='left', left_on='author_fullname', right_on='author_fullname_comment')\n",
        "all_users.fillna(0, inplace=True)\n",
        "\n",
        "# calclulate karama for user\n",
        "all_users['karama'] = all_users['post_score_sum'] + all_users['comments_score_sum']"
      ]
    },
    {
      "cell_type": "code",
      "execution_count": null,
      "metadata": {
        "colab": {
          "base_uri": "https://localhost:8080/"
        },
        "id": "xJQsym5uqh9K",
        "outputId": "d6d2d106-454e-483f-d177-05840d5cbb6f"
      },
      "outputs": [
        {
          "output_type": "stream",
          "name": "stdout",
          "text": [
            "161165\n"
          ]
        }
      ],
      "source": [
        "all_users.reset_index(drop=True, inplace=True)\n",
        "all_users = all_users.drop_duplicates(subset = 'author_fullname')\n",
        "print(len(all_users) )\n"
      ]
    },
    {
      "cell_type": "code",
      "execution_count": null,
      "metadata": {
        "id": "eivfNRlptrvS"
      },
      "outputs": [],
      "source": [
        "edges_list_grouped = edge_list.groupby(['author_fullname_comment', 'author_fullname_post'])['score_comment'].sum().reset_index(name='score_comment')\n",
        "\n",
        "# set up negative values\n",
        "def non_negative_edges_total():\n",
        "  min_score = edges_list_grouped['score_comment'].min()\n",
        "  print(\"min_score: \", min_score)\n",
        "  if min_score < 0:\n",
        "      abs_min_score = abs(min_score) + 1\n",
        "      print(\"abs_min_score: \", abs_min_score)\n",
        "      edges_list_grouped['score_comment'] = edges_list_grouped['score_comment'] + abs_min_score\n",
        "\n",
        "#non_negative_edges_total()\n",
        "\n",
        "edges_l = edges_list_grouped[['author_fullname_post', 'author_fullname_comment', 'score_comment']].values.tolist()\n"
      ]
    },
    {
      "cell_type": "code",
      "execution_count": null,
      "metadata": {
        "id": "kWKvsZyaD41W"
      },
      "outputs": [],
      "source": [
        "edges_list_grouped_corr = edges_list_grouped.groupby(['author_fullname_comment'])['score_comment'].sum().reset_index(name='score_comment_corr')\n",
        "all_users = all_users.merge(edges_list_grouped_corr, how='left', left_on='author_fullname', right_on='author_fullname_comment')\n",
        "all_users.fillna(0, inplace=True)"
      ]
    },
    {
      "cell_type": "markdown",
      "metadata": {
        "id": "nRiwZAqqZpKY"
      },
      "source": [
        "Create Graph"
      ]
    },
    {
      "cell_type": "code",
      "execution_count": null,
      "metadata": {
        "colab": {
          "base_uri": "https://localhost:8080/"
        },
        "id": "ZoHOtX_7enFq",
        "outputId": "51f5559e-69a4-4964-aec5-930215174996"
      },
      "outputs": [
        {
          "output_type": "stream",
          "name": "stdout",
          "text": [
            "users:  161165\n",
            "posts:  140288\n",
            "comments:  1039729\n",
            "edge_list:  617577\n",
            "merge:  729203\n"
          ]
        }
      ],
      "source": [
        "print( \"users: \" , len(all_users))\n",
        "print( \"posts: \" , len(posts_df))\n",
        "print( \"comments: \" , len(comments_df))\n",
        "print( \"edge_list: \" , len(edge_list) )\n",
        "print( \"merge: \" , len(merged_df) )"
      ]
    },
    {
      "cell_type": "code",
      "execution_count": null,
      "metadata": {
        "id": "K5in8_oRZq69"
      },
      "outputs": [],
      "source": [
        "G=nx.DiGraph()"
      ]
    },
    {
      "cell_type": "code",
      "execution_count": null,
      "metadata": {
        "colab": {
          "base_uri": "https://localhost:8080/"
        },
        "id": "k0pLaCrLRvNZ",
        "outputId": "9e19ef07-4b69-436a-e73e-4c5cc8a24a8e"
      },
      "outputs": [
        {
          "output_type": "stream",
          "name": "stdout",
          "text": [
            "Is Directed: True\n",
            "Num Edges of graph: \n",
            "434758\n",
            "Num Nodes of graph: \n",
            "161165\n",
            "in degree\n",
            "161165\n",
            "out degree\n",
            "161165\n"
          ]
        }
      ],
      "source": [
        "nodes_users = all_users['author_fullname']\n",
        "G.add_nodes_from(nodes_users)\n",
        "\n",
        "G.add_weighted_edges_from(edges_l)\n",
        "\n",
        "# graph properties:\n",
        "print(\"Is Directed:\", G.is_directed())\n",
        "print(\"Num Edges of graph: \")\n",
        "print(G.number_of_edges())\n",
        "print(\"Num Nodes of graph: \")\n",
        "print(G.number_of_nodes())\n",
        "print(\"in degree\")\n",
        "print(len(G.in_degree))\n",
        "print(\"out degree\")\n",
        "print(len(G.out_degree()))"
      ]
    },
    {
      "cell_type": "code",
      "execution_count": null,
      "metadata": {
        "colab": {
          "base_uri": "https://localhost:8080/"
        },
        "id": "mV3kmmsKVxAu",
        "outputId": "a272530f-a706-46b1-a07f-979cb1aa1159"
      },
      "outputs": [
        {
          "output_type": "stream",
          "name": "stdout",
          "text": [
            "434758\n",
            "434758\n"
          ]
        }
      ],
      "source": [
        "# remobve inner edges\n",
        "\n",
        "print(G.number_of_edges())\n",
        "#G.remove_edges_from(nx.selfloop_edges(G))\n",
        "print(G.number_of_edges())"
      ]
    },
    {
      "cell_type": "code",
      "execution_count": null,
      "metadata": {
        "id": "koAUBupqX2b-"
      },
      "outputs": [],
      "source": [
        "num_nodes = G.number_of_nodes()\n",
        "num_edges = G.number_of_edges()"
      ]
    },
    {
      "cell_type": "code",
      "execution_count": null,
      "metadata": {
        "id": "3vYT_hj_5uTq"
      },
      "outputs": [],
      "source": [
        "def non_negative_weights(graph):\n",
        "  # Find the minimum weight in the graph\n",
        "  min_weight = min(w for u, v, w in graph.edges(data='weight'))\n",
        "  print(min_weight)\n",
        "  # Check if there are negative weights\n",
        "  # Adjust weights if there are negative values\n",
        "  if min_weight < 0:\n",
        "      adjustment = abs(min_weight) + 1\n",
        "      for u, v in graph.edges():\n",
        "          graph[u][v]['weight'] += adjustment\n",
        "\n",
        "#non_negative_weights(G)"
      ]
    },
    {
      "cell_type": "code",
      "execution_count": null,
      "metadata": {
        "id": "m9uGsTjQ-NNB"
      },
      "outputs": [],
      "source": [
        "# Store the original weights for correlation analysis\n",
        "original_weights = {}\n",
        "for u, v, weight in G.edges(data='weight'):\n",
        "        if v not in original_weights:\n",
        "            original_weights[v] = 0\n",
        "        original_weights[v] += weight\n",
        "\n",
        "# Extract PageRank scores and corresponding original weights\n",
        "nodes = list(G.nodes)\n",
        "\n",
        "original_weights_scores = [original_weights.get(0 , node ) for node in nodes]\n",
        "#original_weights\n",
        "all_users['weight'] = all_users['author_fullname'].map(original_weights).astype(float)"
      ]
    },
    {
      "cell_type": "code",
      "execution_count": null,
      "metadata": {
        "id": "sQOX7MenZNnj"
      },
      "outputs": [],
      "source": [
        "import networkx as nx\n",
        "a = 0.85\n",
        "\n",
        "pr=nx.pagerank(G, a , weight='weight', max_iter = 1000000 , tol=1e-6) #"
      ]
    },
    {
      "cell_type": "code",
      "execution_count": null,
      "metadata": {
        "id": "Ku7wCxt5cNK4"
      },
      "outputs": [],
      "source": [
        "all_users['pr'] = all_users['author_fullname'].map(pr).astype(float)\n",
        "all_users['PageRank_Rank'] = all_users['pr'].rank(ascending=False)\n",
        "all_users['Karama_Rank'] = all_users['comments_score_sum'].rank(ascending=False)"
      ]
    },
    {
      "cell_type": "code",
      "execution_count": null,
      "metadata": {
        "id": "8DGR4to91ay9"
      },
      "outputs": [],
      "source": [
        "hubs, authorities = nx.hits(G, max_iter = 1000000 , normalized = True)\n",
        "\n",
        "all_users['hubs'] = all_users['author_fullname'].map(hubs) .astype(float)\n",
        "all_users['authorities'] = all_users['author_fullname'].map(authorities) .astype(float)\n",
        "all_users['Hubs_Rank'] = all_users['hubs'].rank(ascending=False)\n",
        "all_users['Authorities_Rank'] = all_users['authorities'].rank(ascending=False)"
      ]
    },
    {
      "cell_type": "code",
      "execution_count": null,
      "metadata": {
        "id": "OuNuRwistpIg"
      },
      "outputs": [],
      "source": [
        "all_users['weight'] = all_users['weight'].fillna(0)"
      ]
    },
    {
      "cell_type": "code",
      "execution_count": null,
      "metadata": {
        "id": "ZjKVdV-yv4_V"
      },
      "outputs": [],
      "source": [
        "from scipy.stats import spearmanr, kendalltau\n",
        "\n",
        "# Calculating Spearman and Kendall correlations\n",
        "spearman_pagerank_rho, p = spearmanr(all_users['PageRank_Rank'], all_users['Karama_Rank'])\n",
        "kendall_pagerank_tau, _ = kendalltau(all_users['PageRank_Rank'], all_users['Karama_Rank'])\n",
        "\n",
        "spearman_hubs_rho, p = spearmanr(all_users['Hubs_Rank'], all_users['Karama_Rank'])\n",
        "kendall_hubs_tau, _ = kendalltau(all_users['Hubs_Rank'], all_users['Karama_Rank'])\n",
        "\n",
        "spearman_authorities_rho, p = spearmanr(all_users['Authorities_Rank'], all_users['Karama_Rank'])\n",
        "kendall_authorities_tau, _ = kendalltau(all_users['Authorities_Rank'], all_users['Karama_Rank'])"
      ]
    },
    {
      "cell_type": "code",
      "execution_count": null,
      "metadata": {
        "id": "H0pAQ5Yb9FgE"
      },
      "outputs": [],
      "source": [
        "all_users['Karama_Rank_Weight'] = all_users['weight'].rank(ascending=False)\n",
        "all_users['Karama_Rank_score'] = all_users['comments_score_sum'].rank(ascending=False)"
      ]
    },
    {
      "cell_type": "code",
      "execution_count": null,
      "metadata": {
        "colab": {
          "base_uri": "https://localhost:8080/"
        },
        "id": "6f7nlr1R1ZFU",
        "outputId": "f7676d92-adcc-401d-a914-843275d82f58"
      },
      "outputs": [
        {
          "output_type": "stream",
          "name": "stdout",
          "text": [
            "SignificanceResult(statistic=0.8067749674954641, pvalue=0.0)\n",
            "SignificanceResult(statistic=0.6572108854741032, pvalue=0.0)\n",
            "SignificanceResult(statistic=0.8067749674954641, pvalue=0.0)\n",
            "SignificanceResult(statistic=0.6572108854741032, pvalue=0.0)\n",
            "SignificanceResult(statistic=1.0, pvalue=0.0)\n",
            "SignificanceResult(statistic=1.0, pvalue=0.0)\n"
          ]
        }
      ],
      "source": [
        "\n",
        "#print( spearmanr((all_users['pr']), (all_users['score_comment_corr'])) )\n",
        "#print( kendalltau(( all_users['pr']), (all_users['score_comment_corr']) ))\n",
        "print( spearmanr((all_users['pr']), (all_users['comments_score_sum'])) )\n",
        "print( kendalltau(( all_users['pr']), (all_users['comments_score_sum']) ))\n",
        "\n",
        "print( spearmanr((all_users['Karama_Rank_score']), (all_users['PageRank_Rank'])) )\n",
        "print( kendalltau(( all_users['Karama_Rank_score']), (all_users['PageRank_Rank']) ))\n",
        "\n",
        "print( spearmanr(all_users['Karama_Rank_score'], all_users['Karama_Rank_Weight']) )\n",
        "print( kendalltau(all_users['Karama_Rank_score'], all_users['Karama_Rank_Weight']) )"
      ]
    },
    {
      "cell_type": "code",
      "execution_count": null,
      "metadata": {
        "id": "tgyjuX7l8GaT"
      },
      "outputs": [],
      "source": [
        "all_users['calc_score'] = all_users['weight'] / ( all_users['count_unique_comment'] / all_users['count_unique_posts_asker']  )\n",
        "all_users['calc_score'] = all_users['calc_score'].fillna(0)"
      ]
    },
    {
      "cell_type": "code",
      "execution_count": null,
      "metadata": {
        "id": "QJWZnsja2d0t"
      },
      "outputs": [],
      "source": []
    },
    {
      "cell_type": "code",
      "execution_count": null,
      "metadata": {
        "id": "dpid3OM75EVz"
      },
      "outputs": [],
      "source": [
        "all_users['Rank_score_sum'] = all_users['comments_score_sum'].rank(ascending=False)"
      ]
    },
    {
      "cell_type": "code",
      "execution_count": null,
      "metadata": {
        "colab": {
          "base_uri": "https://localhost:8080/"
        },
        "id": "j1lJ4I3F-dt7",
        "outputId": "6c4d4a64-bb57-4927-f8dc-9d3929b51249"
      },
      "outputs": [
        {
          "output_type": "stream",
          "name": "stdout",
          "text": [
            "SignificanceResult(statistic=0.9885171621568797, pvalue=0.0)\n",
            "SignificanceResult(statistic=0.9501807629389065, pvalue=0.0)\n",
            "SignificanceResult(statistic=0.8009746804039464, pvalue=0.0)\n",
            "SignificanceResult(statistic=0.6512160222830037, pvalue=0.0)\n"
          ]
        }
      ],
      "source": [
        "print( spearmanr((all_users['comments_score_sum']), (all_users['calc_score'])) )\n",
        "print( kendalltau(( all_users['comments_score_sum']), (all_users['calc_score']) ))\n",
        "\n",
        "print( spearmanr((all_users['pr']), (all_users['calc_score'])) )\n",
        "print( kendalltau(( all_users['pr']), (all_users['calc_score']) ))"
      ]
    },
    {
      "cell_type": "code",
      "execution_count": null,
      "metadata": {
        "id": "2C3P89uIDQ8_"
      },
      "outputs": [],
      "source": [
        "all_users['Rank_calc_score'] = all_users['calc_score'].rank(ascending=False)"
      ]
    },
    {
      "cell_type": "code",
      "execution_count": null,
      "metadata": {
        "id": "wejcuwi6Isv9"
      },
      "outputs": [],
      "source": [
        "all_users['z_score'] = zscore( all_users['comments_score_sum'] )"
      ]
    },
    {
      "cell_type": "code",
      "execution_count": null,
      "metadata": {
        "colab": {
          "base_uri": "https://localhost:8080/",
          "height": 135
        },
        "id": "cCKAxWTmzk-l",
        "outputId": "b2cf9b50-5a00-4614-e388-ea216831716f"
      },
      "outputs": [
        {
          "output_type": "execute_result",
          "data": {
            "text/plain": [
              "   year  num nodes  num edges     a  ExpertRank_Spearman’s rho  \\\n",
              "0  2013     161165     434758  0.85                   0.806775   \n",
              "\n",
              "   ExpertRank_Kendall’s Tau  HITS Hubs_Spearman’s rho  \\\n",
              "0                  0.657211                 -0.496993   \n",
              "\n",
              "   HITS Hubs_Kendall’s Tau  HITS Auth_Spearman’s rho  HITS Auth_Kendall’s Tau  \n",
              "0                -0.397632                  0.731089                 0.563228  "
            ],
            "text/html": [
              "\n",
              "  <div id=\"df-871ea452-d6f1-48f4-8c87-c1eface4e81d\" class=\"colab-df-container\">\n",
              "    <div>\n",
              "<style scoped>\n",
              "    .dataframe tbody tr th:only-of-type {\n",
              "        vertical-align: middle;\n",
              "    }\n",
              "\n",
              "    .dataframe tbody tr th {\n",
              "        vertical-align: top;\n",
              "    }\n",
              "\n",
              "    .dataframe thead th {\n",
              "        text-align: right;\n",
              "    }\n",
              "</style>\n",
              "<table border=\"1\" class=\"dataframe\">\n",
              "  <thead>\n",
              "    <tr style=\"text-align: right;\">\n",
              "      <th></th>\n",
              "      <th>year</th>\n",
              "      <th>num nodes</th>\n",
              "      <th>num edges</th>\n",
              "      <th>a</th>\n",
              "      <th>ExpertRank_Spearman’s rho</th>\n",
              "      <th>ExpertRank_Kendall’s Tau</th>\n",
              "      <th>HITS Hubs_Spearman’s rho</th>\n",
              "      <th>HITS Hubs_Kendall’s Tau</th>\n",
              "      <th>HITS Auth_Spearman’s rho</th>\n",
              "      <th>HITS Auth_Kendall’s Tau</th>\n",
              "    </tr>\n",
              "  </thead>\n",
              "  <tbody>\n",
              "    <tr>\n",
              "      <th>0</th>\n",
              "      <td>2013</td>\n",
              "      <td>161165</td>\n",
              "      <td>434758</td>\n",
              "      <td>0.85</td>\n",
              "      <td>0.806775</td>\n",
              "      <td>0.657211</td>\n",
              "      <td>-0.496993</td>\n",
              "      <td>-0.397632</td>\n",
              "      <td>0.731089</td>\n",
              "      <td>0.563228</td>\n",
              "    </tr>\n",
              "  </tbody>\n",
              "</table>\n",
              "</div>\n",
              "    <div class=\"colab-df-buttons\">\n",
              "\n",
              "  <div class=\"colab-df-container\">\n",
              "    <button class=\"colab-df-convert\" onclick=\"convertToInteractive('df-871ea452-d6f1-48f4-8c87-c1eface4e81d')\"\n",
              "            title=\"Convert this dataframe to an interactive table.\"\n",
              "            style=\"display:none;\">\n",
              "\n",
              "  <svg xmlns=\"http://www.w3.org/2000/svg\" height=\"24px\" viewBox=\"0 -960 960 960\">\n",
              "    <path d=\"M120-120v-720h720v720H120Zm60-500h600v-160H180v160Zm220 220h160v-160H400v160Zm0 220h160v-160H400v160ZM180-400h160v-160H180v160Zm440 0h160v-160H620v160ZM180-180h160v-160H180v160Zm440 0h160v-160H620v160Z\"/>\n",
              "  </svg>\n",
              "    </button>\n",
              "\n",
              "  <style>\n",
              "    .colab-df-container {\n",
              "      display:flex;\n",
              "      gap: 12px;\n",
              "    }\n",
              "\n",
              "    .colab-df-convert {\n",
              "      background-color: #E8F0FE;\n",
              "      border: none;\n",
              "      border-radius: 50%;\n",
              "      cursor: pointer;\n",
              "      display: none;\n",
              "      fill: #1967D2;\n",
              "      height: 32px;\n",
              "      padding: 0 0 0 0;\n",
              "      width: 32px;\n",
              "    }\n",
              "\n",
              "    .colab-df-convert:hover {\n",
              "      background-color: #E2EBFA;\n",
              "      box-shadow: 0px 1px 2px rgba(60, 64, 67, 0.3), 0px 1px 3px 1px rgba(60, 64, 67, 0.15);\n",
              "      fill: #174EA6;\n",
              "    }\n",
              "\n",
              "    .colab-df-buttons div {\n",
              "      margin-bottom: 4px;\n",
              "    }\n",
              "\n",
              "    [theme=dark] .colab-df-convert {\n",
              "      background-color: #3B4455;\n",
              "      fill: #D2E3FC;\n",
              "    }\n",
              "\n",
              "    [theme=dark] .colab-df-convert:hover {\n",
              "      background-color: #434B5C;\n",
              "      box-shadow: 0px 1px 3px 1px rgba(0, 0, 0, 0.15);\n",
              "      filter: drop-shadow(0px 1px 2px rgba(0, 0, 0, 0.3));\n",
              "      fill: #FFFFFF;\n",
              "    }\n",
              "  </style>\n",
              "\n",
              "    <script>\n",
              "      const buttonEl =\n",
              "        document.querySelector('#df-871ea452-d6f1-48f4-8c87-c1eface4e81d button.colab-df-convert');\n",
              "      buttonEl.style.display =\n",
              "        google.colab.kernel.accessAllowed ? 'block' : 'none';\n",
              "\n",
              "      async function convertToInteractive(key) {\n",
              "        const element = document.querySelector('#df-871ea452-d6f1-48f4-8c87-c1eface4e81d');\n",
              "        const dataTable =\n",
              "          await google.colab.kernel.invokeFunction('convertToInteractive',\n",
              "                                                    [key], {});\n",
              "        if (!dataTable) return;\n",
              "\n",
              "        const docLinkHtml = 'Like what you see? Visit the ' +\n",
              "          '<a target=\"_blank\" href=https://colab.research.google.com/notebooks/data_table.ipynb>data table notebook</a>'\n",
              "          + ' to learn more about interactive tables.';\n",
              "        element.innerHTML = '';\n",
              "        dataTable['output_type'] = 'display_data';\n",
              "        await google.colab.output.renderOutput(dataTable, element);\n",
              "        const docLink = document.createElement('div');\n",
              "        docLink.innerHTML = docLinkHtml;\n",
              "        element.appendChild(docLink);\n",
              "      }\n",
              "    </script>\n",
              "  </div>\n",
              "\n",
              "\n",
              "    </div>\n",
              "  </div>\n"
            ],
            "application/vnd.google.colaboratory.intrinsic+json": {
              "type": "dataframe",
              "variable_name": "df_results",
              "summary": "{\n  \"name\": \"df_results\",\n  \"rows\": 1,\n  \"fields\": [\n    {\n      \"column\": \"year\",\n      \"properties\": {\n        \"dtype\": \"number\",\n        \"std\": null,\n        \"min\": 2013,\n        \"max\": 2013,\n        \"num_unique_values\": 1,\n        \"samples\": [\n          2013\n        ],\n        \"semantic_type\": \"\",\n        \"description\": \"\"\n      }\n    },\n    {\n      \"column\": \"num nodes\",\n      \"properties\": {\n        \"dtype\": \"number\",\n        \"std\": null,\n        \"min\": 161165,\n        \"max\": 161165,\n        \"num_unique_values\": 1,\n        \"samples\": [\n          161165\n        ],\n        \"semantic_type\": \"\",\n        \"description\": \"\"\n      }\n    },\n    {\n      \"column\": \"num edges\",\n      \"properties\": {\n        \"dtype\": \"number\",\n        \"std\": null,\n        \"min\": 434758,\n        \"max\": 434758,\n        \"num_unique_values\": 1,\n        \"samples\": [\n          434758\n        ],\n        \"semantic_type\": \"\",\n        \"description\": \"\"\n      }\n    },\n    {\n      \"column\": \"a\",\n      \"properties\": {\n        \"dtype\": \"number\",\n        \"std\": null,\n        \"min\": 0.85,\n        \"max\": 0.85,\n        \"num_unique_values\": 1,\n        \"samples\": [\n          0.85\n        ],\n        \"semantic_type\": \"\",\n        \"description\": \"\"\n      }\n    },\n    {\n      \"column\": \"ExpertRank_Spearman\\u2019s rho\",\n      \"properties\": {\n        \"dtype\": \"number\",\n        \"std\": null,\n        \"min\": 0.8067749674954641,\n        \"max\": 0.8067749674954641,\n        \"num_unique_values\": 1,\n        \"samples\": [\n          0.8067749674954641\n        ],\n        \"semantic_type\": \"\",\n        \"description\": \"\"\n      }\n    },\n    {\n      \"column\": \"ExpertRank_Kendall\\u2019s Tau\",\n      \"properties\": {\n        \"dtype\": \"number\",\n        \"std\": null,\n        \"min\": 0.6572108854741032,\n        \"max\": 0.6572108854741032,\n        \"num_unique_values\": 1,\n        \"samples\": [\n          0.6572108854741032\n        ],\n        \"semantic_type\": \"\",\n        \"description\": \"\"\n      }\n    },\n    {\n      \"column\": \"HITS Hubs_Spearman\\u2019s rho\",\n      \"properties\": {\n        \"dtype\": \"number\",\n        \"std\": null,\n        \"min\": -0.49699262453679705,\n        \"max\": -0.49699262453679705,\n        \"num_unique_values\": 1,\n        \"samples\": [\n          -0.49699262453679705\n        ],\n        \"semantic_type\": \"\",\n        \"description\": \"\"\n      }\n    },\n    {\n      \"column\": \"HITS Hubs_Kendall\\u2019s Tau\",\n      \"properties\": {\n        \"dtype\": \"number\",\n        \"std\": null,\n        \"min\": -0.397631869277735,\n        \"max\": -0.397631869277735,\n        \"num_unique_values\": 1,\n        \"samples\": [\n          -0.397631869277735\n        ],\n        \"semantic_type\": \"\",\n        \"description\": \"\"\n      }\n    },\n    {\n      \"column\": \"HITS Auth_Spearman\\u2019s rho\",\n      \"properties\": {\n        \"dtype\": \"number\",\n        \"std\": null,\n        \"min\": 0.7310892688382954,\n        \"max\": 0.7310892688382954,\n        \"num_unique_values\": 1,\n        \"samples\": [\n          0.7310892688382954\n        ],\n        \"semantic_type\": \"\",\n        \"description\": \"\"\n      }\n    },\n    {\n      \"column\": \"HITS Auth_Kendall\\u2019s Tau\",\n      \"properties\": {\n        \"dtype\": \"number\",\n        \"std\": null,\n        \"min\": 0.563228337528233,\n        \"max\": 0.563228337528233,\n        \"num_unique_values\": 1,\n        \"samples\": [\n          0.563228337528233\n        ],\n        \"semantic_type\": \"\",\n        \"description\": \"\"\n      }\n    }\n  ]\n}"
            }
          },
          "metadata": {},
          "execution_count": 306
        }
      ],
      "source": [
        "# Formatting results into a table\n",
        "results = {\n",
        "    'year' : [year],\n",
        "    'year' : [year],\n",
        "    'num nodes':[num_nodes],\n",
        "    'num edges' : [num_edges],\n",
        "    'a': [a],\n",
        "    'ExpertRank_Spearman’s rho': [spearman_pagerank_rho],\n",
        "    'ExpertRank_Kendall’s Tau': [kendall_pagerank_tau],\n",
        "    'HITS Hubs_Spearman’s rho': [spearman_hubs_rho],\n",
        "    'HITS Hubs_Kendall’s Tau': [kendall_hubs_tau],\n",
        "    'HITS Auth_Spearman’s rho': [spearman_authorities_rho],\n",
        "    'HITS Auth_Kendall’s Tau': [kendall_authorities_tau]\n",
        "}\n",
        "\n",
        "# Creating DataFrame\n",
        "df_results = pd.DataFrame(results)\n",
        "\n",
        "# Displaying the formatted DataFrame\n",
        "df_results.head()"
      ]
    },
    {
      "cell_type": "code",
      "execution_count": null,
      "metadata": {
        "colab": {
          "base_uri": "https://localhost:8080/"
        },
        "id": "HY_ArYeLdfWa",
        "outputId": "25a9d8a2-0792-409f-97de-f5115d54fb7a"
      },
      "outputs": [
        {
          "output_type": "stream",
          "name": "stdout",
          "text": [
            "SignificanceResult(statistic=0.9216456530634035, pvalue=0.0)\n",
            "SignificanceResult(statistic=0.8415443125482248, pvalue=0.0)\n"
          ]
        }
      ],
      "source": [
        "all_users['Post_Rank'] = all_users['count_unique_posts'].rank(ascending=False)\n",
        "print( spearmanr(all_users['Hubs_Rank'], all_users['Post_Rank']) )\n",
        "print( kendalltau(all_users['Hubs_Rank'], all_users['Post_Rank']) )"
      ]
    },
    {
      "cell_type": "code",
      "execution_count": null,
      "metadata": {
        "colab": {
          "base_uri": "https://localhost:8080/",
          "height": 472
        },
        "id": "B17rYQc4-DFY",
        "outputId": "820030c4-5a76-4029-d463-e5b281920dc2"
      },
      "outputs": [
        {
          "output_type": "display_data",
          "data": {
            "text/plain": [
              "<Figure size 640x480 with 1 Axes>"
            ],
            "image/png": "[encoded data removed]"
          },
          "metadata": {}
        }
      ],
      "source": [
        "import matplotlib.pyplot as plt\n",
        "\n",
        "# Extract weights from the graph\n",
        "weights = all_users['comments_score_sum']\n",
        "#all_users['weight']\n",
        "\n",
        "# Plot the distribution of weights\n",
        "plt.hist(weights , bins = 10, log = True )\n",
        "plt.xlabel('Weight')\n",
        "plt.ylabel('Frequency')\n",
        "plt.title('Distribution of Weight in Graph')\n",
        "plt.show()"
      ]
    },
    {
      "cell_type": "code",
      "source": [
        "import matplotlib.pyplot as plt\n",
        "\n",
        "# Extract weights from the graph\n",
        "weights = all_users['pr']\n",
        "#all_users['weight']\n",
        "\n",
        "# Plot the distribution of weights\n",
        "plt.hist(weights , bins = 10, log = True )\n",
        "plt.xlabel('Weight')\n",
        "plt.ylabel('Frequency')\n",
        "plt.title('Distribution of Weight in Graph')\n",
        "plt.show()"
      ],
      "metadata": {
        "colab": {
          "base_uri": "https://localhost:8080/",
          "height": 472
        },
        "id": "gnVOldNv0SNy",
        "outputId": "234d0c5e-0e09-4518-bfb8-9ab188d058b9"
      },
      "execution_count": null,
      "outputs": [
        {
          "output_type": "display_data",
          "data": {
            "text/plain": [
              "<Figure size 640x480 with 1 Axes>"
            ],
            "image/png": "[encoded data removed]"
          },
          "metadata": {}
        }
      ]
    },
    {
      "cell_type": "code",
      "source": [
        "import matplotlib.pyplot as plt\n",
        "\n",
        "# Extract weights from the graph\n",
        "weights = all_users['authorities']\n",
        "#all_users['weight']\n",
        "\n",
        "# Plot the distribution of weights\n",
        "plt.hist(weights , bins = 10, log = True )\n",
        "plt.xlabel('Weight')\n",
        "plt.ylabel('Frequency')\n",
        "plt.title('Distribution of Weight in Graph')\n",
        "plt.show()"
      ],
      "metadata": {
        "colab": {
          "base_uri": "https://localhost:8080/",
          "height": 472
        },
        "id": "uj2U233m0Swq",
        "outputId": "29421c86-52b0-4024-c2c1-6b687013150b"
      },
      "execution_count": null,
      "outputs": [
        {
          "output_type": "display_data",
          "data": {
            "text/plain": [
              "<Figure size 640x480 with 1 Axes>"
            ],
            "image/png": "[encoded data removed]"
          },
          "metadata": {}
        }
      ]
    },
    {
      "cell_type": "code",
      "execution_count": null,
      "metadata": {
        "id": "tYWktiWcIoMy"
      },
      "outputs": [],
      "source": [
        "all_users.to_csv('users.csv')"
      ]
    }
  ],
  "metadata": {
    "colab": {
      "provenance": [],
      "mount_file_id": "1ty-OSzSazgDD6LvU6rRrlKjz_dgRbQDP",
      "authorship_tag": "ABX9TyOLNHqeX4MAttTavhU32j9X",
      "include_colab_link": true
    },
    "kernelspec": {
      "display_name": "Python 3",
      "name": "python3"
    },
    "language_info": {
      "name": "python"
    }
  },
  "nbformat": 4,
  "nbformat_minor": 0
}